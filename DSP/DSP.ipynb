{
 "cells": [
  {
   "cell_type": "markdown",
   "metadata": {},
   "source": [
    "Digital Signal Processing"
   ]
  },
  {
   "cell_type": "code",
   "execution_count": 1,
   "metadata": {},
   "outputs": [],
   "source": [
    "import math\n",
    "import numpy as np\n",
    "from scipy import signal\n",
    "import matplotlib.pyplot as plt\n",
    "\n",
    "from numba import njit\n",
    "from numba.typed import List"
   ]
  },
  {
   "cell_type": "markdown",
   "metadata": {},
   "source": [
    "# QR decomposition"
   ]
  },
  {
   "cell_type": "code",
   "execution_count": 2,
   "metadata": {},
   "outputs": [],
   "source": [
    "def QR_hh(A):\n",
    "    \"\"\"\n",
    "    Returns the QR decomposition for\n",
    "    a general shape real matrix\n",
    "    \"\"\"\n",
    "    m, n = A.shape\n",
    "    Q = np.identity(m, dtype=A.dtype)\n",
    "    R = A.copy()\n",
    "\n",
    "    \n",
    "    for k in range(min(m, n)):\n",
    "        u = R[k:, k].copy()\n",
    "        sigma = np.linalg.norm(u)\n",
    "        s = 1 if R[k, k] >= 0 else -1\n",
    "        u[0] += s*sigma\n",
    "        rho = s / (sigma*u[0])\n",
    "        \n",
    "        R[k:] -= (rho*u[:, None]) * (u @ R[k:])\n",
    "        Q[:,k:] -= (Q[:,k:] @ u)[:, None] * (rho*u)\n",
    "        \n",
    "    return Q, R"
   ]
  },
  {
   "cell_type": "code",
   "execution_count": 3,
   "metadata": {},
   "outputs": [
    {
     "data": {
      "text/plain": [
       "4.3347561602462036e-16"
      ]
     },
     "execution_count": 3,
     "metadata": {},
     "output_type": "execute_result"
    }
   ],
   "source": [
    "A = np.random.rand(20, 30)\n",
    "Q, R = QR_hh(A)\n",
    "\n",
    "# Check that Q and R are indeed factors of A\n",
    "np.linalg.norm(A - Q@R) / np.linalg.norm(A)"
   ]
  },
  {
   "cell_type": "code",
   "execution_count": 4,
   "metadata": {},
   "outputs": [
    {
     "data": {
      "text/plain": [
       "4.440892098500626e-16"
      ]
     },
     "execution_count": 4,
     "metadata": {},
     "output_type": "execute_result"
    },
    {
     "data": {
      "image/png": "[encoded data removed]",
      "text/plain": [
       "<Figure size 432x288 with 2 Axes>"
      ]
     },
     "metadata": {
      "needs_background": "light"
     },
     "output_type": "display_data"
    }
   ],
   "source": [
    "# Check that Q is orthonormal and R is upper-triangular\n",
    "QQT = Q@Q.T\n",
    "plt.subplot('121')\n",
    "plt.title(r'$QQ^T$', size=20)\n",
    "plt.imshow(QQT);\n",
    "\n",
    "plt.subplot('122')\n",
    "plt.title('R', size=20)\n",
    "plt.imshow(R > 1e-15);\n",
    "\n",
    "# Maximamum deviation of diagonal entries from 1\n",
    "np.abs(np.diag(QQT) - 1).max()"
   ]
  },
  {
   "cell_type": "markdown",
   "metadata": {},
   "source": [
    "# Linear and circular convolutions"
   ]
  },
  {
   "cell_type": "markdown",
   "metadata": {},
   "source": [
    "There are two ways to calculate a convolution that come up to my mind.\n",
    "The first is the direct one, where you follow the definition of the convolution type.\n",
    "And the second is to apply FFT, which suits circular convolutions\n",
    "and can be adjusted for the linear one via zero padding.\n",
    "\n",
    "FFT is asymptotically (length of signal $\\to\\infty$) better than direct method: $O(N\\log N$) vs. $O(N^2)$\n",
    "(FFT and direct, respectively; N is the sequence length). But for signal samplings of small size\n",
    "(like in this case) it may be still preferable to turn to direct calculation: $CN\\log N$ vs. $N^2$, where $C$ is the constant of FFT method and the key factor to choose the faster method when $N$ is small."
   ]
  },
  {
   "cell_type": "code",
   "execution_count": 5,
   "metadata": {},
   "outputs": [],
   "source": [
    "N = 16\n",
    "a = np.random.rand(N)\n",
    "b = np.random.rand(N)"
   ]
  },
  {
   "cell_type": "markdown",
   "metadata": {},
   "source": [
    "## Linear convolution"
   ]
  },
  {
   "cell_type": "code",
   "execution_count": 6,
   "metadata": {},
   "outputs": [],
   "source": [
    "@njit\n",
    "def linconv(a, b):\n",
    "    \"\"\"\n",
    "    Direct calculation of 1d linear convolution\n",
    "    Args:\n",
    "    ----\n",
    "        a: numba.typed.List\n",
    "        b: numba.typed.List\n",
    "        \n",
    "        NOTE: a and b should be the same size\n",
    "    \"\"\"\n",
    "    N = len(a)\n",
    "    \n",
    "    c = List()\n",
    "    [c.append(0.) for _ in range(2*N-1)]\n",
    "   \n",
    "    for i in range(N):\n",
    "        for k in range(i+1):\n",
    "            c[i] += a[k] * b[i-k]\n",
    "            \n",
    "    for i in range(N-1):\n",
    "        for k in range(i+1, N):\n",
    "            c[i+N] += a[k] * b[i-k]\n",
    "    \n",
    "    return c"
   ]
  },
  {
   "cell_type": "code",
   "execution_count": 7,
   "metadata": {},
   "outputs": [
    {
     "data": {
      "text/plain": [
       "True"
      ]
     },
     "execution_count": 7,
     "metadata": {},
     "output_type": "execute_result"
    }
   ],
   "source": [
    "# Check that custom method works properly \n",
    "np.allclose(np.convolve(a, b), linconv(a, b))"
   ]
  },
  {
   "cell_type": "code",
   "execution_count": 8,
   "metadata": {},
   "outputs": [
    {
     "name": "stdout",
     "output_type": "stream",
     "text": [
      "261.37012843298965 vs. 256\n"
     ]
    }
   ],
   "source": [
    "M = 2*N-1\n",
    "# Number of multiplications in the trivial divide and conquer fft-algorithm (1)\n",
    "# vs.\n",
    "# number of multiplications in the direct method (2)\n",
    "print(3/2*M*math.log2(M) + M, 'vs.', N**2)\n",
    "\n",
    "# near the same for the number of additions, but (1) includes also permutations or reoderings"
   ]
  },
  {
   "cell_type": "code",
   "execution_count": 9,
   "metadata": {},
   "outputs": [
    {
     "name": "stdout",
     "output_type": "stream",
     "text": [
      "35.2 µs ± 2.49 µs per loop (mean ± std. dev. of 7 runs, 10000 loops each)\n",
      "128 µs ± 10.7 µs per loop (mean ± std. dev. of 7 runs, 10000 loops each)\n",
      "41.3 µs ± 3.61 µs per loop (mean ± std. dev. of 7 runs, 10000 loops each)\n",
      "4.19 µs ± 167 ns per loop (mean ± std. dev. of 7 runs, 100000 loops each)\n"
     ]
    }
   ],
   "source": [
    "%timeit linconv(a, b)\n",
    "%timeit signal.convolve(a, b, method='fft')\n",
    "%timeit np.fft.ifft(np.fft.fft(np.r_[a,np.zeros(N-1)]) * np.fft.fft(np.r_[b, np.zeros(N-1)])).real\n",
    "%timeit signal.convolve(a, b, method='direct')"
   ]
  },
  {
   "cell_type": "markdown",
   "metadata": {},
   "source": [
    "As one can see, direct method is faster for linear convolution of two sequences of size 16"
   ]
  },
  {
   "cell_type": "markdown",
   "metadata": {},
   "source": [
    "## Circular convolution"
   ]
  },
  {
   "cell_type": "markdown",
   "metadata": {},
   "source": [
    "For circular convolution, we don't need to pad sequences and the resulting signal after convolution\n",
    "has lesser length (comparing to the linear one) -- and thus, it is fewer calculations required. So, we can hope that FFT is faster even for $N=16$"
   ]
  },
  {
   "cell_type": "code",
   "execution_count": 10,
   "metadata": {},
   "outputs": [],
   "source": [
    "@njit\n",
    "def circonv(a, b):\n",
    "    \"\"\"\n",
    "    Direct calculation of 1d linear convolution\n",
    "    Args:\n",
    "    ----\n",
    "        a: numba.typed.List\n",
    "        b: numba.typed.List\n",
    "        \n",
    "        NOTE: a and b should be the same size\n",
    "    \"\"\"\n",
    "    N = len(a)\n",
    "    \n",
    "    c = List()\n",
    "    [c.append(0.) for _ in range(N)]\n",
    "   \n",
    "    for i in range(N):\n",
    "        for k in range(N):\n",
    "            c[i] += a[k] * b[i-k]\n",
    "    \n",
    "    return c"
   ]
  },
  {
   "cell_type": "code",
   "execution_count": 11,
   "metadata": {},
   "outputs": [
    {
     "data": {
      "text/plain": [
       "True"
      ]
     },
     "execution_count": 11,
     "metadata": {},
     "output_type": "execute_result"
    }
   ],
   "source": [
    "# Check that custom method works properly\n",
    "np.allclose(circonv(a, b), np.fft.ifft(np.fft.fft(a) * np.fft.fft(b)).real)"
   ]
  },
  {
   "cell_type": "code",
   "execution_count": 12,
   "metadata": {},
   "outputs": [
    {
     "name": "stdout",
     "output_type": "stream",
     "text": [
      "35.7 µs ± 3.5 µs per loop (mean ± std. dev. of 7 runs, 10000 loops each)\n",
      "8.76 µs ± 815 ns per loop (mean ± std. dev. of 7 runs, 100000 loops each)\n"
     ]
    }
   ],
   "source": [
    "%timeit circonv(a, b)\n",
    "%timeit np.fft.ifft(np.fft.fft(a) * np.fft.fft(b)).real"
   ]
  },
  {
   "cell_type": "markdown",
   "metadata": {},
   "source": [
    "FFT is faster"
   ]
  },
  {
   "cell_type": "markdown",
   "metadata": {},
   "source": [
    "# Re-sampling"
   ]
  },
  {
   "cell_type": "markdown",
   "metadata": {},
   "source": [
    "**Upsampling** by a factor K\n",
    "Time domain ([reference](https://ocw.mit.edu/courses/mechanical-engineering/2-161-signal-processing-continuous-and-discrete-fall-2008/study-materials/updownsampling.pdf))\n",
    "1. Take the DFT of the original data set to create $\\{F_m\\}$ of length N.\n",
    "2. Insert (K − 1)N zeros into the center of the DFT to create a length KN array.\n",
    "3. Take the IDFT of the expanded array, and scale the sequence by a factor K.\n",
    "\n",
    "Freq. domain\n",
    "1. Insert K-1 zeros between every two neighbor samples of the original signal.\n",
    "2. Take the DFT of the expanded array and apply to it low-pass filter.\n",
    "3. Take the IDFT and scale the sequence by a factor K.\n",
    "\n",
    "**Downsampling** by a factor K\n",
    "\n",
    "1. Apply anti-aliasing filter\n",
    "2. Take every K-th sample of the original signal\n",
    "\n",
    "**Fractional re-sampling** by a factor $\\frac{U}{D}$\n",
    "1. Apply upsampling by a factor U\n",
    "2. Apply downsampling by a factor D\n",
    "\n",
    "    Note: since the two low-pass filters are cascaded,\n",
    "    they may be replaced with a single filter with a cut-off frequency\n",
    "    that is the lower of the two filters\n",
    "    \n",
    "Some useful links:  \n",
    "- \\[[1](http://web.mit.edu/~gari/teaching/6.555/lectures/ch_DFT.pdf)\\]\n",
    "- \\[[2](https://ocw.mit.edu/courses/mechanical-engineering/2-161-signal-processing-continuous-and-discrete-fall-2008/lecture-notes)\\]"
   ]
  },
  {
   "cell_type": "code",
   "execution_count": 13,
   "metadata": {},
   "outputs": [],
   "source": [
    "N = 30\n",
    "\n",
    "# All scaling factors are defined HERE\n",
    "U = 3\n",
    "D = 3\n",
    "R = (3, 5)"
   ]
  },
  {
   "cell_type": "code",
   "execution_count": 14,
   "metadata": {},
   "outputs": [
    {
     "data": {
      "image/png": "[encoded data removed]",
      "text/plain": [
       "<Figure size 432x288 with 1 Axes>"
      ]
     },
     "metadata": {
      "needs_background": "light"
     },
     "output_type": "display_data"
    }
   ],
   "source": [
    "# Signal\n",
    "T = 4*np.pi\n",
    "t, dt = np.linspace(0, T, N, retstep=True)\n",
    "\n",
    "w_max = 1\n",
    "x = np.sin(w_max*t)\n",
    "plt.plot(t, x, '.');\n",
    "\n",
    "y = np.linspace(0, T, 1000)\n",
    "plt.title('signal')\n",
    "plt.plot(y, np.sin(w_max*y))\n",
    "\n",
    "assert 2*np.pi/(T/N) >= 2.5*w_max, \"Kotelnikov's theorem f_s > 2*f_max (in practice > 2.5*f_s)\""
   ]
  },
  {
   "cell_type": "markdown",
   "metadata": {},
   "source": [
    "## Upsampling"
   ]
  },
  {
   "cell_type": "code",
   "execution_count": 15,
   "metadata": {
    "scrolled": true
   },
   "outputs": [
    {
     "data": {
      "image/png": "[encoded data removed]",
      "text/plain": [
       "<Figure size 432x288 with 1 Axes>"
      ]
     },
     "metadata": {
      "needs_background": "light"
     },
     "output_type": "display_data"
    }
   ],
   "source": [
    "x_w = np.fft.fft(x)\n",
    "w = np.fft.fftfreq(len(x_w), dt)\n",
    "plt.title('spectre of signal')\n",
    "plt.plot(w, x_w.real, '*');\n",
    "plt.plot(w, x_w.imag, '*');"
   ]
  },
  {
   "cell_type": "code",
   "execution_count": 16,
   "metadata": {},
   "outputs": [
    {
     "data": {
      "image/png": "[encoded data removed]",
      "text/plain": [
       "<Figure size 432x288 with 1 Axes>"
      ]
     },
     "metadata": {
      "needs_background": "light"
     },
     "output_type": "display_data"
    }
   ],
   "source": [
    "pad = np.tile(np.zeros(U-1), (len(x)-1, 1))\n",
    "x_up = np.r_[np.c_[x[:-1, None], pad].flatten(), x[-1]]\n",
    "\n",
    "plt.title('upsampled signal')\n",
    "plt.plot(x_up, '*');"
   ]
  },
  {
   "cell_type": "code",
   "execution_count": 17,
   "metadata": {},
   "outputs": [
    {
     "data": {
      "image/png": "[encoded data removed]",
      "text/plain": [
       "<Figure size 432x288 with 2 Axes>"
      ]
     },
     "metadata": {
      "needs_background": "light"
     },
     "output_type": "display_data"
    }
   ],
   "source": [
    "Nu = len(x_up)\n",
    "x_up_w = np.fft.fft(x_up)\n",
    "w = np.fft.fftfreq(Nu, dt/U)\n",
    "\n",
    "filter = np.zeros_like(w, dtype=bool)\n",
    "filter[np.where(abs(w) <= 1/(2*dt))[0]] = 1\n",
    "\n",
    "plt.subplot('121')\n",
    "# plt.title('spectre of upsampled signal')\n",
    "plt.plot(w, x_up_w.real, '*')\n",
    "plt.plot(w, x_up_w.imag, '*');\n",
    "\n",
    "plt.subplot('122')\n",
    "# plt.title('the filtered spectre')\n",
    "plt.plot(w, x_up_w.real*filter, '*')\n",
    "plt.plot(w, x_up_w.imag*filter, '*');"
   ]
  },
  {
   "cell_type": "code",
   "execution_count": 18,
   "metadata": {},
   "outputs": [
    {
     "data": {
      "image/png": "[encoded data removed]",
      "text/plain": [
       "<Figure size 432x288 with 1 Axes>"
      ]
     },
     "metadata": {
      "needs_background": "light"
     },
     "output_type": "display_data"
    }
   ],
   "source": [
    "t_up = np.linspace(0, T, len(x_up))\n",
    "plt.plot(t_up, np.fft.ifft(U*x_up_w * filter).real, '.');\n",
    "plt.plot(y, np.sin(w_max*y));"
   ]
  },
  {
   "cell_type": "markdown",
   "metadata": {},
   "source": [
    "## Downsampling"
   ]
  },
  {
   "cell_type": "code",
   "execution_count": 19,
   "metadata": {},
   "outputs": [
    {
     "data": {
      "image/png": "[encoded data removed]",
      "text/plain": [
       "<Figure size 432x288 with 1 Axes>"
      ]
     },
     "metadata": {
      "needs_background": "light"
     },
     "output_type": "display_data"
    }
   ],
   "source": [
    "x_w = np.fft.fft(x)\n",
    "w = np.fft.fftfreq(len(x_w), dt)\n",
    "plt.title('spectre of signal')\n",
    "plt.plot(w, x_w.real, '*');\n",
    "plt.plot(w, x_w.imag, '*');"
   ]
  },
  {
   "cell_type": "code",
   "execution_count": 20,
   "metadata": {},
   "outputs": [],
   "source": [
    "filter = np.zeros_like(w, dtype=bool)\n",
    "filter[abs(w) <= 1/(2*D*dt)] = 1"
   ]
  },
  {
   "cell_type": "code",
   "execution_count": 21,
   "metadata": {},
   "outputs": [
    {
     "data": {
      "image/png": "[encoded data removed]",
      "text/plain": [
       "<Figure size 432x288 with 1 Axes>"
      ]
     },
     "metadata": {
      "needs_background": "light"
     },
     "output_type": "display_data"
    }
   ],
   "source": [
    "x_down = np.fft.ifft(x_w*filter).real[::D]\n",
    "plt.plot(t[::D], x_down, '.');\n",
    "plt.plot(y, np.sin(w_max*y));"
   ]
  },
  {
   "cell_type": "markdown",
   "metadata": {},
   "source": [
    "## Rational-factor re-sampling"
   ]
  },
  {
   "cell_type": "code",
   "execution_count": 22,
   "metadata": {},
   "outputs": [],
   "source": [
    "x_w = np.fft.fft(x)\n",
    "x_up_down_w = np.insert(x_w, N//2, np.zeros(N*(R[0]-1)))\n",
    "\n",
    "w = np.fft.fftfreq(len(x_up_down_w), dt/R[0])\n",
    "w_cut = min(1/(2*dt), R[0]/(2*R[1]*dt))\n",
    "\n",
    "filter = np.zeros_like(w, dtype=bool)\n",
    "filter[abs(w) <= w_cut] = 1\n",
    "\n",
    "x_up_down = R[0]*np.fft.ifft(x_up_down_w*filter).real[::R[1]]"
   ]
  },
  {
   "cell_type": "code",
   "execution_count": 23,
   "metadata": {},
   "outputs": [
    {
     "data": {
      "image/png": "[encoded data removed]",
      "text/plain": [
       "<Figure size 432x288 with 1 Axes>"
      ]
     },
     "metadata": {
      "needs_background": "light"
     },
     "output_type": "display_data"
    }
   ],
   "source": [
    "plt.plot(np.linspace(0, T, len(x_up_down)), x_up_down, '.');\n",
    "plt.plot(y, np.sin(w_max*y));"
   ]
  }
 ],
 "metadata": {
  "kernelspec": {
   "display_name": "Python 3",
   "language": "python",
   "name": "python3"
  },
  "language_info": {
   "codemirror_mode": {
    "name": "ipython",
    "version": 3
   },
   "file_extension": ".py",
   "mimetype": "text/x-python",
   "name": "python",
   "nbconvert_exporter": "python",
   "pygments_lexer": "ipython3",
   "version": "3.7.7"
  },
  "toc": {
   "base_numbering": 1,
   "nav_menu": {},
   "number_sections": true,
   "sideBar": true,
   "skip_h1_title": false,
   "title_cell": "Table of Contents",
   "title_sidebar": "Contents",
   "toc_cell": false,
   "toc_position": {},
   "toc_section_display": true,
   "toc_window_display": false
  }
 },
 "nbformat": 4,
 "nbformat_minor": 4
}
