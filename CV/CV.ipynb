{
 "cells": [
  {
   "cell_type": "code",
   "execution_count": null,
   "metadata": {
    "colab": {
     "base_uri": "https://localhost:8080/"
    },
    "executionInfo": {
     "elapsed": 2118,
     "status": "ok",
     "timestamp": 1628782325409,
     "user": {
      "displayName": "Vladislav Lukoshkin",
      "photoUrl": "https://lh3.googleusercontent.com/a-/AOh14GgAIbbQf4c7MKDT0LwJRaFCXf_foXX1lhVz9q3ZEg=s64",
      "userId": "13122188955388036365"
     },
     "user_tz": -180
    },
    "id": "t48b2vSw5WiE",
    "outputId": "afb250b2-fbf6-4a1f-e056-79d3b55db4e6"
   },
   "outputs": [],
   "source": [
    "COLAB = True if 'google.colab' in str(get_ipython()) else False\n",
    "\n",
    "if COLAB:\n",
    "    !rm -rf interview\n",
    "    !git clone https://github.com/lukoshkin/interview.git\n",
    "    !mv -n interview/CV/* .\n",
    "    !unzip -nq EyesDataset.zip"
   ]
  },
  {
   "cell_type": "code",
   "execution_count": null,
   "metadata": {
    "executionInfo": {
     "elapsed": 5943,
     "status": "ok",
     "timestamp": 1628782337281,
     "user": {
      "displayName": "Vladislav Lukoshkin",
      "photoUrl": "https://lh3.googleusercontent.com/a-/AOh14GgAIbbQf4c7MKDT0LwJRaFCXf_foXX1lhVz9q3ZEg=s64",
      "userId": "13122188955388036365"
     },
     "user_tz": -180
    },
    "id": "QvuBbJD749Vb"
   },
   "outputs": [],
   "source": [
    "if COLAB:\n",
    "    %matplotlib inline\n",
    "else:\n",
    "    %matplotlib notebook\n",
    "\n",
    "import random\n",
    "import numpy as np\n",
    "import matplotlib.pyplot as plt\n",
    "\n",
    "from pathlib import Path\n",
    "from sklearn.cluster import KMeans\n",
    "from sklearn.model_selection import train_test_split\n",
    "from IPython.display import clear_output\n",
    "\n",
    "import torch\n",
    "import torch.nn as nn\n",
    "import torch.optim as optim\n",
    "import torch.utils.data as torch_data\n",
    "\n",
    "from src.model.architecture import SimpleNet\n",
    "from src.model.scoring import LabelSmoothedBCEwLL, ROC_EER\n",
    "from src.model.utils import train_open_eyes_clf\n",
    "from src.data.loaders import BatchLoader, MRLEyesData\n",
    "from src.data.utils import mend_labels\n",
    "\n",
    "seed = 0\n",
    "torch.manual_seed(seed)\n",
    "np.random.seed(seed)  # likely sklearn is based on numpy\n",
    "random.seed(seed)  # not sure there are python functions\n",
    "                   # leveraging 'random' lib, just in case\n",
    "\n",
    "device = torch.device('cuda' if torch.cuda.is_available() else 'cpu')"
   ]
  },
  {
   "cell_type": "markdown",
   "metadata": {
    "deletable": false,
    "editable": false,
    "id": "FHjbIbsD49Vf",
    "run_control": {
     "frozen": true
    }
   },
   "source": [
    "# First Attempts"
   ]
  },
  {
   "cell_type": "code",
   "execution_count": null,
   "metadata": {
    "executionInfo": {
     "elapsed": 758,
     "status": "ok",
     "timestamp": 1628782487970,
     "user": {
      "displayName": "Vladislav Lukoshkin",
      "photoUrl": "https://lh3.googleusercontent.com/a-/AOh14GgAIbbQf4c7MKDT0LwJRaFCXf_foXX1lhVz9q3ZEg=s64",
      "userId": "13122188955388036365"
     },
     "user_tz": -180
    },
    "id": "oZT154MU49Vg"
   },
   "outputs": [],
   "source": [
    "! unzip -qn EyesDataset.zip\n",
    "\n",
    "dset = []\n",
    "for file in Path('EyesDataset').iterdir():\n",
    "    img = plt.imread(str(file), )\n",
    "    dset.append(img)\n",
    "    \n",
    "dset = np.array(dset, dtype='f4') / 255"
   ]
  },
  {
   "cell_type": "code",
   "execution_count": null,
   "metadata": {
    "colab": {
     "base_uri": "https://localhost:8080/",
     "height": 282
    },
    "executionInfo": {
     "elapsed": 3136,
     "status": "ok",
     "timestamp": 1628782491097,
     "user": {
      "displayName": "Vladislav Lukoshkin",
      "photoUrl": "https://lh3.googleusercontent.com/a-/AOh14GgAIbbQf4c7MKDT0LwJRaFCXf_foXX1lhVz9q3ZEg=s64",
      "userId": "13122188955388036365"
     },
     "user_tz": -180
    },
    "id": "Y1H6sp_l49Vh",
    "outputId": "2b129b47-1e14-48b3-db91-eca451e5adb0"
   },
   "outputs": [],
   "source": [
    "dset_flat = dset.reshape(len(dset), -1)\n",
    "kmeans = KMeans(n_clusters=2).fit(dset_flat)\n",
    "dist = kmeans.transform(dset_flat)\n",
    "\n",
    "plt.figure()\n",
    "plt.plot(np.sort(dist[:, 0]));\n",
    "plt.plot(np.sort(dist[:, 1]));\n",
    "\n",
    "labels = kmeans.labels_ \n",
    "print(labels.sum()/labels.size)"
   ]
  },
  {
   "cell_type": "code",
   "execution_count": null,
   "metadata": {
    "colab": {
     "base_uri": "https://localhost:8080/",
     "height": 265
    },
    "executionInfo": {
     "elapsed": 43,
     "status": "ok",
     "timestamp": 1628782491099,
     "user": {
      "displayName": "Vladislav Lukoshkin",
      "photoUrl": "https://lh3.googleusercontent.com/a-/AOh14GgAIbbQf4c7MKDT0LwJRaFCXf_foXX1lhVz9q3ZEg=s64",
      "userId": "13122188955388036365"
     },
     "user_tz": -180
    },
    "id": "ujzHEA5549Vj",
    "outputId": "52a8d9aa-8349-44e0-c03e-a49352be5922"
   },
   "outputs": [],
   "source": [
    "n_samples = 1800\n",
    "ids1 = np.argsort(dist[:,1] - dist[:,0])[:n_samples]\n",
    "ids0 = np.argsort(dist[:,0] - dist[:,1])[:n_samples]\n",
    "\n",
    "plt.figure()\n",
    "plt.plot(labels[ids1]);\n",
    "plt.plot(labels[ids0]);"
   ]
  },
  {
   "cell_type": "code",
   "execution_count": null,
   "metadata": {
    "colab": {
     "base_uri": "https://localhost:8080/",
     "height": 265
    },
    "executionInfo": {
     "elapsed": 39,
     "status": "ok",
     "timestamp": 1628782491101,
     "user": {
      "displayName": "Vladislav Lukoshkin",
      "photoUrl": "https://lh3.googleusercontent.com/a-/AOh14GgAIbbQf4c7MKDT0LwJRaFCXf_foXX1lhVz9q3ZEg=s64",
      "userId": "13122188955388036365"
     },
     "user_tz": -180
    },
    "id": "7464T_cI49Vk",
    "outputId": "a5eedf83-c03b-4ca1-fdce-591ac6385819",
    "scrolled": false
   },
   "outputs": [],
   "source": [
    "mask1 = labels.astype('bool')\n",
    "plt.figure()\n",
    "plt.imshow(dset[~mask1][32], cmap='gray');"
   ]
  },
  {
   "cell_type": "code",
   "execution_count": null,
   "metadata": {
    "executionInfo": {
     "elapsed": 36,
     "status": "ok",
     "timestamp": 1628782491103,
     "user": {
      "displayName": "Vladislav Lukoshkin",
      "photoUrl": "https://lh3.googleusercontent.com/a-/AOh14GgAIbbQf4c7MKDT0LwJRaFCXf_foXX1lhVz9q3ZEg=s64",
      "userId": "13122188955388036365"
     },
     "user_tz": -180
    },
    "id": "-kbcmNcc49Vl"
   },
   "outputs": [],
   "source": [
    "X = dset[:, None]\n",
    "y = labels\n",
    "\n",
    "X_train, X_test, y_train, y_test = map(torch.Tensor,\n",
    "    train_test_split(X, y, test_size=.2))"
   ]
  },
  {
   "cell_type": "code",
   "execution_count": null,
   "metadata": {
    "executionInfo": {
     "elapsed": 8,
     "status": "ok",
     "timestamp": 1628782841803,
     "user": {
      "displayName": "Vladislav Lukoshkin",
      "photoUrl": "https://lh3.googleusercontent.com/a-/AOh14GgAIbbQf4c7MKDT0LwJRaFCXf_foXX1lhVz9q3ZEg=s64",
      "userId": "13122188955388036365"
     },
     "user_tz": -180
    },
    "id": "Is11Nhmh49Vr"
   },
   "outputs": [],
   "source": [
    "label_smoothing = True\n",
    "\n",
    "net = SimpleNet().to(device)\n",
    "opt = optim.Adam(net.parameters(), lr=3e-3)\n",
    "\n",
    "criterion = nn.BCEWithLogitsLoss()\n",
    "if label_smoothing:\n",
    "    criterion = LabelSmoothedBCEwLL(.4)\n",
    "\n",
    "train_bl = BatchLoader(X_train, y_train, 40)\n",
    "val_bl = BatchLoader(X_test, y_test, 100)"
   ]
  },
  {
   "cell_type": "code",
   "execution_count": null,
   "metadata": {
    "id": "n7GsA8KT49Vs"
   },
   "outputs": [],
   "source": [
    "best_score = float('inf')\n",
    "best_score, state = train_open_eyes_clf(\n",
    "    net, criterion, opt, train_bl, val_bl, device=device,\n",
    "    val_criterion=ROC_EER, epochs=10, continue_val_score=best_score)\n",
    "\n",
    "if state is not None:\n",
    "    torch.save(state, 'dummy.pth')"
   ]
  },
  {
   "cell_type": "code",
   "execution_count": null,
   "metadata": {
    "executionInfo": {
     "elapsed": 18,
     "status": "aborted",
     "timestamp": 1628782721086,
     "user": {
      "displayName": "Vladislav Lukoshkin",
      "photoUrl": "https://lh3.googleusercontent.com/a-/AOh14GgAIbbQf4c7MKDT0LwJRaFCXf_foXX1lhVz9q3ZEg=s64",
      "userId": "13122188955388036365"
     },
     "user_tz": -180
    },
    "id": "5cLVEIjs49Vs"
   },
   "outputs": [],
   "source": [
    "if Path('dummy.pth').exists():\n",
    "    net = SimpleNet()\n",
    "    net.load_state_dict(\n",
    "        torch.load('dummy.pth', map_location=device))"
   ]
  },
  {
   "cell_type": "code",
   "execution_count": null,
   "metadata": {
    "id": "vT5xOmwS49Vt"
   },
   "outputs": [],
   "source": [
    "y_pred = net.predict(X_test)\n",
    "eer, fpr, tpr = ROC_EER(y_test, y_pred, return_roc=True)"
   ]
  },
  {
   "cell_type": "code",
   "execution_count": null,
   "metadata": {
    "colab": {
     "base_uri": "https://localhost:8080/",
     "height": 282
    },
    "executionInfo": {
     "elapsed": 36,
     "status": "ok",
     "timestamp": 1628782506842,
     "user": {
      "displayName": "Vladislav Lukoshkin",
      "photoUrl": "https://lh3.googleusercontent.com/a-/AOh14GgAIbbQf4c7MKDT0LwJRaFCXf_foXX1lhVz9q3ZEg=s64",
      "userId": "13122188955388036365"
     },
     "user_tz": -180
    },
    "id": "F7LkGcug49Vt",
    "outputId": "a7f351f1-9a74-4b4c-a19b-7303ec0c14f1"
   },
   "outputs": [],
   "source": [
    "x = np.linspace(0, 1, num=len(fpr))\n",
    "print('EER =', eer)\n",
    "\n",
    "plt.figure()\n",
    "plt.plot(x, 1-x);\n",
    "plt.plot(fpr, tpr);"
   ]
  },
  {
   "cell_type": "markdown",
   "metadata": {
    "deletable": false,
    "editable": false,
    "id": "f1xm-YEt49Vv",
    "run_control": {
     "frozen": true
    }
   },
   "source": [
    "# Third-Party Dataset"
   ]
  },
  {
   "cell_type": "code",
   "execution_count": null,
   "metadata": {
    "colab": {
     "base_uri": "https://localhost:8080/"
    },
    "executionInfo": {
     "elapsed": 1927,
     "status": "ok",
     "timestamp": 1628782851343,
     "user": {
      "displayName": "Vladislav Lukoshkin",
      "photoUrl": "https://lh3.googleusercontent.com/a-/AOh14GgAIbbQf4c7MKDT0LwJRaFCXf_foXX1lhVz9q3ZEg=s64",
      "userId": "13122188955388036365"
     },
     "user_tz": -180
    },
    "id": "WGyspvJb49Vw",
    "outputId": "041587b5-2ce9-4249-c5da-f7cc88443308"
   },
   "outputs": [],
   "source": [
    "! wget -nc http://mrl.cs.vsb.cz/data/eyedataset/mrlEyes_2018_01.zip\n",
    "! unzip -nq mrlEyes_2018_01.zip\n",
    "fnames = list(Path('mrlEyes_2018_01').rglob('*.png'))\n",
    "train_files, test_files = train_test_split(fnames, test_size=.2)"
   ]
  },
  {
   "cell_type": "code",
   "execution_count": null,
   "metadata": {
    "colab": {
     "base_uri": "https://localhost:8080/"
    },
    "executionInfo": {
     "elapsed": 33,
     "status": "ok",
     "timestamp": 1628782851345,
     "user": {
      "displayName": "Vladislav Lukoshkin",
      "photoUrl": "https://lh3.googleusercontent.com/a-/AOh14GgAIbbQf4c7MKDT0LwJRaFCXf_foXX1lhVz9q3ZEg=s64",
      "userId": "13122188955388036365"
     },
     "user_tz": -180
    },
    "id": "7kt5nnDC49Vx",
    "outputId": "607a5ad5-c8cd-44f6-9a11-f2bd1f14e04a"
   },
   "outputs": [],
   "source": [
    "train_ds = MRLEyesData(fnames=train_files)\n",
    "val_ds = MRLEyesData(fnames=test_files)\n",
    "\n",
    "num_workers = !lscpu | grep 'CPU(s)' | head -1 | tr -s ' ' | cut -d ' ' -f2\n",
    "num_workers = int(num_workers[0])\n",
    "\n",
    "train_bl = torch_data.DataLoader(\n",
    "    train_ds, batch_size=100, shuffle=True, num_workers=num_workers)\n",
    "val_bl = torch_data.DataLoader(\n",
    "    val_ds, batch_size=100, shuffle=True, num_workers=num_workers)\n",
    "\n",
    "print(sum(train_ds.targets) / len(train_ds))"
   ]
  },
  {
   "cell_type": "code",
   "execution_count": null,
   "metadata": {
    "executionInfo": {
     "elapsed": 8,
     "status": "ok",
     "timestamp": 1628782852423,
     "user": {
      "displayName": "Vladislav Lukoshkin",
      "photoUrl": "https://lh3.googleusercontent.com/a-/AOh14GgAIbbQf4c7MKDT0LwJRaFCXf_foXX1lhVz9q3ZEg=s64",
      "userId": "13122188955388036365"
     },
     "user_tz": -180
    },
    "id": "J-SYi4LU49Vx"
   },
   "outputs": [],
   "source": [
    "#     X, y = next(iter(dloader))\n",
    "#     np.savez('mrleye_valset', X=X, y=y)"
   ]
  },
  {
   "cell_type": "code",
   "execution_count": null,
   "metadata": {
    "executionInfo": {
     "elapsed": 7,
     "status": "ok",
     "timestamp": 1628782852708,
     "user": {
      "displayName": "Vladislav Lukoshkin",
      "photoUrl": "https://lh3.googleusercontent.com/a-/AOh14GgAIbbQf4c7MKDT0LwJRaFCXf_foXX1lhVz9q3ZEg=s64",
      "userId": "13122188955388036365"
     },
     "user_tz": -180
    },
    "id": "CCnUucEM49Vy"
   },
   "outputs": [],
   "source": [
    "#     data = np.load('mrleye_valset.npz')\n",
    "#     X_test = torch.Tensor(data['X'])\n",
    "#     y_test = torch.Tensor(data['y'])"
   ]
  },
  {
   "cell_type": "code",
   "execution_count": null,
   "metadata": {
    "executionInfo": {
     "elapsed": 298,
     "status": "ok",
     "timestamp": 1628783552173,
     "user": {
      "displayName": "Vladislav Lukoshkin",
      "photoUrl": "https://lh3.googleusercontent.com/a-/AOh14GgAIbbQf4c7MKDT0LwJRaFCXf_foXX1lhVz9q3ZEg=s64",
      "userId": "13122188955388036365"
     },
     "user_tz": -180
    },
    "id": "xL7tTxLy49Vy"
   },
   "outputs": [],
   "source": [
    "label_smoothing = False\n",
    "\n",
    "net = SimpleNet().to(device)\n",
    "opt = optim.Adam(net.parameters(), lr=3e-3)\n",
    "\n",
    "criterion = nn.BCEWithLogitsLoss()\n",
    "if label_smoothing:\n",
    "    criterion = LabelSmoothedBCEwLL(.2)"
   ]
  },
  {
   "cell_type": "code",
   "execution_count": null,
   "metadata": {
    "id": "n7GsA8KT49Vs"
   },
   "outputs": [],
   "source": [
    "best_score = float('inf')\n",
    "best_score, state = train_open_eyes_clf(\n",
    "    net, criterion, opt, train_bl, val_bl, device=device,\n",
    "    val_criterion=ROC_EER, epochs=1, continue_val_score=best_score)\n",
    "\n",
    "if state is not None:\n",
    "    torch.save(state, 'mrl_eyes_weights.pth')"
   ]
  },
  {
   "cell_type": "code",
   "execution_count": null,
   "metadata": {
    "executionInfo": {
     "elapsed": 18,
     "status": "aborted",
     "timestamp": 1628782721086,
     "user": {
      "displayName": "Vladislav Lukoshkin",
      "photoUrl": "https://lh3.googleusercontent.com/a-/AOh14GgAIbbQf4c7MKDT0LwJRaFCXf_foXX1lhVz9q3ZEg=s64",
      "userId": "13122188955388036365"
     },
     "user_tz": -180
    },
    "id": "5cLVEIjs49Vs"
   },
   "outputs": [],
   "source": [
    "if Path('mrl_eyes_weights.pth').exists():\n",
    "    net = SimpleNet()\n",
    "    net.load_state_dict(\n",
    "        torch.load('mrl_eyes_weights.pth', map_location=device))"
   ]
  },
  {
   "cell_type": "code",
   "execution_count": null,
   "metadata": {},
   "outputs": [],
   "source": [
    "probs = net.predict(X_test.to(device)).detach().cpu()"
   ]
  },
  {
   "cell_type": "code",
   "execution_count": null,
   "metadata": {},
   "outputs": [],
   "source": [
    "# just to check that all is good\n",
    "mend_labels(X_test.squeeze(1), (probs > .5).long());"
   ]
  }
 ],
 "metadata": {
  "accelerator": "GPU",
  "colab": {
   "collapsed_sections": [],
   "name": "Copy of CV.ipynb",
   "provenance": [
    {
     "file_id": "https://github.com/lukoshkin/interview/blob/master/CV/CV.ipynb",
     "timestamp": 1628782029352
    }
   ]
  },
  "kernelspec": {
   "display_name": "Python 3",
   "language": "python",
   "name": "python3"
  },
  "language_info": {
   "codemirror_mode": {
    "name": "ipython",
    "version": 3
   },
   "file_extension": ".py",
   "mimetype": "text/x-python",
   "name": "python",
   "nbconvert_exporter": "python",
   "pygments_lexer": "ipython3",
   "version": "3.7.3"
  },
  "toc": {
   "base_numbering": 1,
   "nav_menu": {},
   "number_sections": true,
   "sideBar": true,
   "skip_h1_title": false,
   "title_cell": "Table of Contents",
   "title_sidebar": "Contents",
   "toc_cell": false,
   "toc_position": {},
   "toc_section_display": true,
   "toc_window_display": false
  }
 },
 "nbformat": 4,
 "nbformat_minor": 5
}
