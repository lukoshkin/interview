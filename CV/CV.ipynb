{
 "cells": [
  {
   "cell_type": "code",
   "execution_count": 1,
   "id": "1160f686",
   "metadata": {},
   "outputs": [],
   "source": [
    "import cv2\n",
    "import copy\n",
    "import numpy as np\n",
    "\n",
    "from pathlib import Path\n",
    "from sklearn.cluster import KMeans\n",
    "from sklearn.model_selection import train_test_split\n",
    "from sklearn.metrics import roc_curve\n",
    "\n",
    "import torch\n",
    "import torch.nn as nn\n",
    "import torch.optim as optim\n",
    "import torch.utils.data as torch_data\n",
    "from torchvision import models as torch_models\n",
    "\n",
    "%matplotlib inline\n",
    "import matplotlib.pyplot as plt\n",
    "\n",
    "seed = 0\n",
    "device = torch.device('cuda' if torch.cuda.is_available() else 'cpu')"
   ]
  },
  {
   "cell_type": "code",
   "execution_count": 26,
   "id": "92764002",
   "metadata": {},
   "outputs": [],
   "source": [
    "dset = []\n",
    "filenames = []\n",
    "! unzip -qn EyesDataset.zip\n",
    "for file in Path('EyesDataset').iterdir():\n",
    "    filenames.append(str(file))\n",
    "    img = cv2.imread(str(file))\n",
    "    dset.append(img)\n",
    "    \n",
    "dset = np.array(dset, dtype='f4') / 255\n",
    "dset_flat = dset.reshape(len(dset), -1)"
   ]
  },
  {
   "cell_type": "code",
   "execution_count": 27,
   "id": "4346516f",
   "metadata": {},
   "outputs": [
    {
     "name": "stdout",
     "output_type": "stream",
     "text": [
      "0.4735\n"
     ]
    },
    {
     "data": {
      "image/png": "[encoded data removed]",
      "text/plain": [
       "<Figure size 432x288 with 1 Axes>"
      ]
     },
     "metadata": {
      "needs_background": "light"
     },
     "output_type": "display_data"
    }
   ],
   "source": [
    "kmeans = KMeans(n_clusters=2, random_state=seed).fit(dset_flat)\n",
    "dist = kmeans.transform(dset_flat)\n",
    "\n",
    "plt.plot(np.sort(dist[:, 0]));\n",
    "plt.plot(np.sort(dist[:, 1]));\n",
    "\n",
    "labels = kmeans.labels_ \n",
    "print(labels.sum()/labels.size)"
   ]
  },
  {
   "cell_type": "code",
   "execution_count": 28,
   "id": "38a85bca",
   "metadata": {},
   "outputs": [
    {
     "data": {
      "image/png": "[encoded data removed]",
      "text/plain": [
       "<Figure size 432x288 with 1 Axes>"
      ]
     },
     "metadata": {
      "needs_background": "light"
     },
     "output_type": "display_data"
    }
   ],
   "source": [
    "n_samples = 1800\n",
    "ids1 = np.argsort(dist[:,1] - dist[:,0])[:n_samples]\n",
    "ids0 = np.argsort(dist[:,0] - dist[:,1])[:n_samples]\n",
    "\n",
    "plt.plot(labels[ids1]);\n",
    "plt.plot(labels[ids0]);"
   ]
  },
  {
   "cell_type": "code",
   "execution_count": 29,
   "id": "265a211c",
   "metadata": {},
   "outputs": [],
   "source": [
    "# train_imgs, test_imgs = train_test_split(filenames, test_size=200/len(labels))"
   ]
  },
  {
   "cell_type": "code",
   "execution_count": 14,
   "id": "d19df4d2",
   "metadata": {},
   "outputs": [],
   "source": [
    "X = dset.transpose(0, 3, 1, 2)\n",
    "y = labels"
   ]
  },
  {
   "cell_type": "code",
   "execution_count": 15,
   "id": "103d856e",
   "metadata": {},
   "outputs": [
    {
     "data": {
      "image/png": "[encoded data removed]",
      "text/plain": [
       "<Figure size 432x288 with 1 Axes>"
      ]
     },
     "metadata": {
      "needs_background": "light"
     },
     "output_type": "display_data"
    }
   ],
   "source": [
    "mask1 = y.astype('bool')\n",
    "plt.imshow(dset[~mask1][32]);"
   ]
  },
  {
   "cell_type": "code",
   "execution_count": 16,
   "id": "249dc4d9",
   "metadata": {},
   "outputs": [],
   "source": [
    "X_train, X_test, y_train, y_test = map(torch.Tensor,\n",
    "    train_test_split(X, y, test_size=.2, random_state=seed))"
   ]
  },
  {
   "cell_type": "code",
   "execution_count": 10,
   "id": "94574515",
   "metadata": {},
   "outputs": [],
   "source": [
    "class SimpleNet(nn.Module):\n",
    "    def __init__(self):\n",
    "        super().__init__()\n",
    "        self.main = nn.Sequential(\n",
    "            nn.Conv2d(\n",
    "                3, 32, kernel_size=3,\n",
    "                stride=2, padding=1, bias=False),\n",
    "            nn.BatchNorm2d(32),\n",
    "            nn.LeakyReLU(0.2),\n",
    "\n",
    "            nn.Conv2d(\n",
    "                32, 16, kernel_size=3,\n",
    "                stride=2, padding=1, bias=False),\n",
    "            nn.BatchNorm2d(16),\n",
    "            nn.LeakyReLU(0.2),\n",
    "\n",
    "            nn.Conv2d(\n",
    "                16, 8, kernel_size=3,\n",
    "                stride=2, padding=1, bias=False),\n",
    "            nn.BatchNorm2d(8),\n",
    "            nn.LeakyReLU(0.2),\n",
    "\n",
    "            nn.Conv2d(\n",
    "                8, 4, kernel_size=3,\n",
    "                stride=2, padding=1, bias=False),\n",
    "            nn.BatchNorm2d(4),\n",
    "            nn.LeakyReLU(0.2),\n",
    "            \n",
    "            nn.Conv2d(4, 1, kernel_size=2)\n",
    "        )\n",
    "        \n",
    "    def forward(self, X):\n",
    "        return self.main(X).flatten()\n",
    "    \n",
    "    def predict(self, X):\n",
    "        return self.forward(X).sigmoid()"
   ]
  },
  {
   "cell_type": "code",
   "execution_count": 11,
   "id": "c3f8f6ac",
   "metadata": {},
   "outputs": [],
   "source": [
    "class BatchLoader:\n",
    "    def __init__(self, X, y, batch_size):\n",
    "        self.X = X\n",
    "        self.y = y\n",
    "        self.bs = batch_size\n",
    "        self.gen = None\n",
    "\n",
    "    def _gen(self):\n",
    "        ids = np.arange(len(self.y))\n",
    "        np.random.shuffle(ids)\n",
    "\n",
    "        for i in range(0, len(self.y), self.bs):\n",
    "            yield self.X[i:i+self.bs], self.y[i:i+self.bs]\n",
    "\n",
    "    def reinit(self):\n",
    "        self.gen = self._gen()"
   ]
  },
  {
   "cell_type": "code",
   "execution_count": 21,
   "id": "ea7103a9",
   "metadata": {},
   "outputs": [
    {
     "data": {
      "text/plain": [
       "(3200, 3, 24, 24)"
      ]
     },
     "execution_count": 21,
     "metadata": {},
     "output_type": "execute_result"
    }
   ],
   "source": [
    "A.shape"
   ]
  },
  {
   "cell_type": "code",
   "execution_count": 12,
   "id": "5697512c",
   "metadata": {},
   "outputs": [],
   "source": [
    "def ROC_EER(y_true, y_pred, return_roc=False):\n",
    "    if isinstance(y_pred, torch.Tensor):\n",
    "        y_true = y_true.cpu()\n",
    "        y_pred = y_pred.detach().cpu()\n",
    "        \n",
    "    fpr, tpr, _ = roc_curve(y_test, y_pred)\n",
    "    eer = fpr[np.nanargmin(np.absolute(1 - tpr - fpr))]\n",
    "    if return_roc: return eer, fpr, tpr\n",
    "    return eer"
   ]
  },
  {
   "cell_type": "code",
   "execution_count": 53,
   "id": "361c7eb8",
   "metadata": {},
   "outputs": [],
   "source": [
    "def train(\n",
    "    net, criterion, optimizer, train_bl, val_bl,\n",
    "    scheduler=None, epochs=10, verbose=True,\n",
    "    validation='EER', best_val_score=None):\n",
    "\n",
    "    if verbose:\n",
    "        print('Epoch\\t\\tTrain\\t\\tValidation')\n",
    "        if validation == 'EER': print('\\t\\t\\t\\tBCE\\tEER')\n",
    "        print()\n",
    "        \n",
    "    if best_val_score is None:\n",
    "        best_val_score = float('inf')\n",
    "        best_model_state = None\n",
    "\n",
    "    for epoch in range(1, epochs+1):\n",
    "        train_loss = val_loss = 0\n",
    "        net.train()\n",
    "\n",
    "        train_bl.reinit()\n",
    "        val_bl.reinit()\n",
    "\n",
    "        for X,y in train_bl.gen:\n",
    "            optimizer.zero_grad()\n",
    "\n",
    "            X, y = X.to(device), y.to(device)\n",
    "            \n",
    "            loss = criterion(net(X), y)\n",
    "            loss.backward()\n",
    "            train_loss += loss.item() * len(y)/len(train_bl.y)\n",
    "\n",
    "            optimizer.step()\n",
    "\n",
    "        net.eval()\n",
    "        for X,y in val_bl.gen:\n",
    "            X, y = X.to(device), y.to(device)\n",
    "\n",
    "            y_pred = net(X)\n",
    "            loss = criterion(y_pred, y)\n",
    "\n",
    "            val_loss += loss.item() * len(y)/len(val_bl.y)\n",
    "            eer = ROC_EER(val_bl.y, net(val_bl.X))\n",
    "            \n",
    "            val_score = eer if validation == 'EER' else val_loss\n",
    "            \n",
    "        if val_score < best_val_score:\n",
    "            best_val_score = val_score\n",
    "            best_model_state = copy.deepcopy(net.state_dict())\n",
    "\n",
    "        if scheduler is not None: scheduler.step()\n",
    "\n",
    "        freq = max(epochs//20, 1)\n",
    "        if verbose and epoch % freq == 0:\n",
    "            logline = f'{epoch}/{epochs}\\t\\t{train_loss:.4}\\t\\t{val_loss:.4f}'\n",
    "            if validation == 'EER': logline += f'\\t{eer:.4}'\n",
    "            print(logline)\n",
    "            \n",
    "    return best_val_score, best_model_state"
   ]
  },
  {
   "cell_type": "code",
   "execution_count": 54,
   "id": "371e2b94",
   "metadata": {},
   "outputs": [],
   "source": [
    "class LabelSmoothedBCEwLL(nn.BCEWithLogitsLoss):\n",
    "    \"\"\"\n",
    "    In this implementation, the effect of label smoothing is\n",
    "    taken into account in the regularization term. This loss\n",
    "    is completely equivalent to the actual label smoothing\n",
    "    implemented below, when the hyperparmeter epsilon is\n",
    "    twice as the commented out one.\n",
    "    \"\"\"\n",
    "    def __init__(self, eps=.2):\n",
    "        super().__init__()\n",
    "        self.eps = eps\n",
    "        \n",
    "    def forward(self, input, target):\n",
    "        base_loss = super().forward(input, target)\n",
    "        dummy_target = torch.empty_like(target).fill_(.5)\n",
    "        reg_term = super().forward(input, dummy_target)\n",
    "        return (1-self.eps)*base_loss + self.eps*reg_term\n",
    "\n",
    "# class LabelSmoothedBCEwLL(nn.BCEWithLogitsLoss):\n",
    "#     def __init__(self, eps=.1):\n",
    "#         super().__init__()\n",
    "#         self.eps = eps\n",
    "        \n",
    "#     def forward(self, input, target):\n",
    "#         target = target.clone()\n",
    "#         target[np.where(target == 0)] = self.eps\n",
    "#         target[np.where(target == 1)] = 1 - self.eps\n",
    "#         return super().forward(input, target)"
   ]
  },
  {
   "cell_type": "code",
   "execution_count": 67,
   "id": "5b164114",
   "metadata": {},
   "outputs": [],
   "source": [
    "label_smoothing = True\n",
    "\n",
    "net = SimpleNet().to(device)\n",
    "opt = optim.Adam(net.parameters(), lr=3e-3)\n",
    "\n",
    "criterion = nn.BCEWithLogitsLoss()\n",
    "if label_smoothing:\n",
    "    criterion = LabelSmoothedBCEwLL(.4)\n",
    "\n",
    "train_bl = BatchLoader(X_train, y_train, 40)\n",
    "val_bl = BatchLoader(X_test, y_test, 100)\n",
    "\n",
    "SAVE = False\n",
    "LOAD = True"
   ]
  },
  {
   "cell_type": "code",
   "execution_count": 68,
   "id": "4efb0411",
   "metadata": {},
   "outputs": [
    {
     "name": "stdout",
     "output_type": "stream",
     "text": [
      "Epoch\t\tTrain\t\tValidation\n",
      "\t\t\t\tBCE\tEER\n",
      "\n",
      "1/10\t\t0.5477\t\t0.5316\t0.02582\n",
      "2/10\t\t0.5372\t\t0.5254\t0.01643\n",
      "3/10\t\t0.5359\t\t0.5246\t0.01643\n",
      "4/10\t\t0.5347\t\t0.5238\t0.01408\n",
      "5/10\t\t0.5337\t\t0.5227\t0.01643\n",
      "6/10\t\t0.5329\t\t0.5216\t0.01643\n",
      "7/10\t\t0.5321\t\t0.5211\t0.01643\n",
      "8/10\t\t0.5314\t\t0.5204\t0.01408\n",
      "9/10\t\t0.5306\t\t0.5201\t0.01408\n",
      "10/10\t\t0.5299\t\t0.5193\t0.01408\n"
     ]
    }
   ],
   "source": [
    "score, state = train(net, criterion, opt, train_bl, val_bl, epochs=10, validation='EER')\n",
    "if SAVE: torch.save(state, 'weights.pth')"
   ]
  },
  {
   "cell_type": "code",
   "execution_count": 69,
   "id": "3bf865bb",
   "metadata": {},
   "outputs": [],
   "source": [
    "if LOAD:\n",
    "    net = SimpleNet()\n",
    "    net.load_state_dict(\n",
    "        torch.load('weights.pth', map_location=device))"
   ]
  },
  {
   "cell_type": "code",
   "execution_count": 70,
   "id": "9519d6a3",
   "metadata": {},
   "outputs": [],
   "source": [
    "y_pred = net.predict(X_test)\n",
    "eer, fpr, tpr = ROC_EER(y_test, y_pred, return_roc=True)"
   ]
  },
  {
   "cell_type": "code",
   "execution_count": 71,
   "id": "7a02562b",
   "metadata": {},
   "outputs": [
    {
     "name": "stdout",
     "output_type": "stream",
     "text": [
      "EER = 0.009389671361502348\n"
     ]
    },
    {
     "data": {
      "image/png": "[encoded data removed]",
      "text/plain": [
       "<Figure size 432x288 with 1 Axes>"
      ]
     },
     "metadata": {
      "needs_background": "light"
     },
     "output_type": "display_data"
    }
   ],
   "source": [
    "x = np.linspace(0, 1, num=len(fpr))\n",
    "print('EER =', eer)\n",
    "\n",
    "plt.plot(x, 1-x);\n",
    "plt.plot(fpr, tpr);"
   ]
  },
  {
   "cell_type": "code",
   "execution_count": null,
   "id": "053b7e57",
   "metadata": {},
   "outputs": [],
   "source": []
  }
 ],
 "metadata": {
  "kernelspec": {
   "display_name": "Python 3 (ipykernel)",
   "language": "python",
   "name": "python3"
  },
  "language_info": {
   "codemirror_mode": {
    "name": "ipython",
    "version": 3
   },
   "file_extension": ".py",
   "mimetype": "text/x-python",
   "name": "python",
   "nbconvert_exporter": "python",
   "pygments_lexer": "ipython3",
   "version": "3.8.11"
  },
  "toc": {
   "base_numbering": 1,
   "nav_menu": {},
   "number_sections": true,
   "sideBar": true,
   "skip_h1_title": false,
   "title_cell": "Table of Contents",
   "title_sidebar": "Contents",
   "toc_cell": false,
   "toc_position": {},
   "toc_section_display": true,
   "toc_window_display": false
  }
 },
 "nbformat": 4,
 "nbformat_minor": 5
}
