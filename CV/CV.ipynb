{
 "cells": [
  {
   "cell_type": "code",
   "execution_count": null,
   "metadata": {
    "colab": {
     "base_uri": "https://localhost:8080/"
    },
    "executionInfo": {
     "elapsed": 2118,
     "status": "ok",
     "timestamp": 1628782325409,
     "user": {
      "displayName": "Vladislav Lukoshkin",
      "photoUrl": "https://lh3.googleusercontent.com/a-/AOh14GgAIbbQf4c7MKDT0LwJRaFCXf_foXX1lhVz9q3ZEg=s64",
      "userId": "13122188955388036365"
     },
     "user_tz": -180
    },
    "id": "t48b2vSw5WiE",
    "outputId": "afb250b2-fbf6-4a1f-e056-79d3b55db4e6"
   },
   "outputs": [],
   "source": [
    "COLAB = True if 'google.colab' in str(get_ipython()) else False\n",
    "\n",
    "if COLAB:\n",
    "    !rm -rf interview\n",
    "    !git clone https://github.com/lukoshkin/interview.git\n",
    "    !mv -n interview/CV/* .\n",
    "    !unzip -nq EyesDataset.zip"
   ]
  },
  {
   "cell_type": "code",
   "execution_count": null,
   "metadata": {
    "executionInfo": {
     "elapsed": 5943,
     "status": "ok",
     "timestamp": 1628782337281,
     "user": {
      "displayName": "Vladislav Lukoshkin",
      "photoUrl": "https://lh3.googleusercontent.com/a-/AOh14GgAIbbQf4c7MKDT0LwJRaFCXf_foXX1lhVz9q3ZEg=s64",
      "userId": "13122188955388036365"
     },
     "user_tz": -180
    },
    "id": "QvuBbJD749Vb"
   },
   "outputs": [],
   "source": [
    "if COLAB:\n",
    "    %matplotlib inline\n",
    "else:\n",
    "    %matplotlib notebook\n",
    "\n",
    "import random\n",
    "import numpy as np\n",
    "import matplotlib.pyplot as plt\n",
    "\n",
    "from pathlib import Path\n",
    "from sklearn.cluster import KMeans, SpectralClustering\n",
    "from sklearn.preprocessing import StandardScaler\n",
    "from sklearn.model_selection import train_test_split\n",
    "from IPython.display import clear_output\n",
    "\n",
    "import torch\n",
    "import torch.nn as nn\n",
    "import torch.optim as optim\n",
    "import torch.utils.data as torch_data\n",
    "\n",
    "from src.model.architectures import SimpleNet, AutoEncoder\n",
    "from src.model.scoring import LabelSmoothedBCEwLL, ROC_EER\n",
    "from src.model.utils import train_open_eyes_clf, train_ae\n",
    "from src.data.loaders import BatchLoader, AEBatchLoader, MRLEyesData\n",
    "from src.data.utils import mend_labels\n",
    "\n",
    "# seed = 0\n",
    "# torch.manual_seed(seed)\n",
    "# np.random.seed(seed)  # likely sklearn is based on numpy\n",
    "# random.seed(seed)     # not sure there are python functions\n",
    "                      # leveraging 'random' lib, just in case\n",
    "\n",
    "device = torch.device('cuda' if torch.cuda.is_available() else 'cpu')"
   ]
  },
  {
   "cell_type": "code",
   "execution_count": null,
   "metadata": {
    "executionInfo": {
     "elapsed": 758,
     "status": "ok",
     "timestamp": 1628782487970,
     "user": {
      "displayName": "Vladislav Lukoshkin",
      "photoUrl": "https://lh3.googleusercontent.com/a-/AOh14GgAIbbQf4c7MKDT0LwJRaFCXf_foXX1lhVz9q3ZEg=s64",
      "userId": "13122188955388036365"
     },
     "user_tz": -180
    },
    "id": "oZT154MU49Vg"
   },
   "outputs": [],
   "source": [
    "! unzip -qn EyesDataset.zip\n",
    "\n",
    "dset = []\n",
    "for file in Path('EyesDataset').iterdir():\n",
    "    img = plt.imread(str(file), )\n",
    "    dset.append(img)\n",
    "    \n",
    "dset = np.array(dset)"
   ]
  },
  {
   "cell_type": "markdown",
   "metadata": {},
   "source": [
    "# Classifier"
   ]
  },
  {
   "cell_type": "code",
   "execution_count": null,
   "metadata": {},
   "outputs": [],
   "source": [
    "class OpenEyesClassifier(SimpleNet):\n",
    "    \"\"\"\n",
    "    EyeDataset Classifier.\n",
    "    \"\"\"\n",
    "    def __init__(self):\n",
    "        \"\"\"\n",
    "        Initializes the model with 'OCE-weights.pth'\n",
    "        that should be located in the same directory\n",
    "        where the invocation takes place.\n",
    "        \"\"\"\n",
    "        super().__init__()\n",
    "        state = torch.load('OEC-weights.pth')\n",
    "        self.load_state_dict(state)\n",
    "        self.eval()\n",
    "\n",
    "    def __call__(self, inplm):\n",
    "        \"\"\"\n",
    "        Alias for self.predict method.\n",
    "        \"\"\"\n",
    "        return self.predict(inplm)\n",
    "\n",
    "    def predict(self, inplm):\n",
    "        \"\"\"\n",
    "        Parameters:  inplm : str - path to an eye image.\n",
    "        Returns:     is_open_score : float - classification score\n",
    "                     (0 - eye is closed, 1 - is open).\n",
    "        \"\"\"\n",
    "        img = torch.Tensor(plt.imread(inplm).copy())[None, None]\n",
    "        is_open_score = self.forward(img).sigmoid().item()\n",
    "\n",
    "#         plt.figure()\n",
    "#         plt.imshow(img[0, 0], cmap='gray')\n",
    "#         plt.title(f'is_open_score = {is_open_score}')\n",
    "        return is_open_score"
   ]
  },
  {
   "cell_type": "code",
   "execution_count": null,
   "metadata": {},
   "outputs": [],
   "source": [
    "clf = OpenEyesClassifier()\n",
    "clf.predict('EyesDataset/000048.jpg')"
   ]
  },
  {
   "cell_type": "markdown",
   "metadata": {
    "id": "f1xm-YEt49Vv"
   },
   "source": [
    "# Third-Party Dataset"
   ]
  },
  {
   "cell_type": "code",
   "execution_count": null,
   "metadata": {
    "colab": {
     "base_uri": "https://localhost:8080/"
    },
    "executionInfo": {
     "elapsed": 1927,
     "status": "ok",
     "timestamp": 1628782851343,
     "user": {
      "displayName": "Vladislav Lukoshkin",
      "photoUrl": "https://lh3.googleusercontent.com/a-/AOh14GgAIbbQf4c7MKDT0LwJRaFCXf_foXX1lhVz9q3ZEg=s64",
      "userId": "13122188955388036365"
     },
     "user_tz": -180
    },
    "id": "WGyspvJb49Vw",
    "outputId": "041587b5-2ce9-4249-c5da-f7cc88443308"
   },
   "outputs": [],
   "source": [
    "! wget -nc http://mrl.cs.vsb.cz/data/eyedataset/mrlEyes_2018_01.zip\n",
    "! unzip -nq mrlEyes_2018_01.zip\n",
    "fnames = list(Path('mrlEyes_2018_01').rglob('*.png'))\n",
    "train_files, test_files = train_test_split(fnames, test_size=.2)"
   ]
  },
  {
   "cell_type": "code",
   "execution_count": null,
   "metadata": {
    "colab": {
     "base_uri": "https://localhost:8080/"
    },
    "executionInfo": {
     "elapsed": 33,
     "status": "ok",
     "timestamp": 1628782851345,
     "user": {
      "displayName": "Vladislav Lukoshkin",
      "photoUrl": "https://lh3.googleusercontent.com/a-/AOh14GgAIbbQf4c7MKDT0LwJRaFCXf_foXX1lhVz9q3ZEg=s64",
      "userId": "13122188955388036365"
     },
     "user_tz": -180
    },
    "id": "7kt5nnDC49Vx",
    "outputId": "607a5ad5-c8cd-44f6-9a11-f2bd1f14e04a"
   },
   "outputs": [],
   "source": [
    "train_ds = MRLEyesData(fnames=train_files)\n",
    "val_ds = MRLEyesData(fnames=test_files)\n",
    "\n",
    "num_workers = !lscpu | grep 'CPU(s)' | head -1 | tr -s ' ' | cut -d ' ' -f2\n",
    "num_workers = int(num_workers[0])\n",
    "\n",
    "train_bl = torch_data.DataLoader(\n",
    "    train_ds, batch_size=100, shuffle=True, num_workers=num_workers)\n",
    "val_bl = torch_data.DataLoader(\n",
    "    val_ds, batch_size=100, shuffle=True, num_workers=num_workers)\n",
    "\n",
    "print(sum(train_ds.targets) / len(train_ds))"
   ]
  },
  {
   "cell_type": "code",
   "execution_count": null,
   "metadata": {
    "executionInfo": {
     "elapsed": 298,
     "status": "ok",
     "timestamp": 1628783552173,
     "user": {
      "displayName": "Vladislav Lukoshkin",
      "photoUrl": "https://lh3.googleusercontent.com/a-/AOh14GgAIbbQf4c7MKDT0LwJRaFCXf_foXX1lhVz9q3ZEg=s64",
      "userId": "13122188955388036365"
     },
     "user_tz": -180
    },
    "id": "xL7tTxLy49Vy"
   },
   "outputs": [],
   "source": [
    "label_smoothing = False\n",
    "\n",
    "net = SimpleNet().to(device)\n",
    "opt = optim.Adam(net.parameters(), lr=3e-3)\n",
    "\n",
    "criterion = nn.BCEWithLogitsLoss()\n",
    "if label_smoothing:\n",
    "    criterion = LabelSmoothedBCEwLL(.2)\n",
    "\n",
    "scheduler = optim.lr_scheduler.StepLR(opt, 1, gamma=.7)"
   ]
  },
  {
   "cell_type": "code",
   "execution_count": null,
   "metadata": {
    "id": "n7GsA8KT49Vs"
   },
   "outputs": [],
   "source": [
    "best_score = float('inf')\n",
    "best_score, state = train_open_eyes_clf(\n",
    "    net, criterion, opt, train_bl, val_bl, scheduler, device=device,\n",
    "    metric=ROC_EER, epochs=10, continue_val_score=best_score)\n",
    "\n",
    "if state is not None:\n",
    "    torch.save(state, 'mrl_eyes_weights.pth')"
   ]
  },
  {
   "cell_type": "code",
   "execution_count": null,
   "metadata": {
    "executionInfo": {
     "elapsed": 18,
     "status": "aborted",
     "timestamp": 1628782721086,
     "user": {
      "displayName": "Vladislav Lukoshkin",
      "photoUrl": "https://lh3.googleusercontent.com/a-/AOh14GgAIbbQf4c7MKDT0LwJRaFCXf_foXX1lhVz9q3ZEg=s64",
      "userId": "13122188955388036365"
     },
     "user_tz": -180
    },
    "id": "5cLVEIjs49Vs"
   },
   "outputs": [],
   "source": [
    "if Path('mrl_eyes_weights.pth').exists():\n",
    "    net = SimpleNet().to(device)\n",
    "    net.load_state_dict(torch.load('mrl_eyes_weights.pth'))"
   ]
  },
  {
   "cell_type": "code",
   "execution_count": null,
   "metadata": {},
   "outputs": [],
   "source": [
    "X = torch.Tensor(dset)[:, None] / 255\n",
    "probs = net.predict(X.to(device)).detach().cpu()\n",
    "mask = ~((probs > .2) & (probs < .8))\n",
    "print(mask.sum() / len(mask))\n",
    "\n",
    "X_train, X_test, y_train, y_test = train_test_split(\n",
    "    X[mask], (probs[mask] > .5).float(), test_size=.2)"
   ]
  },
  {
   "cell_type": "code",
   "execution_count": null,
   "metadata": {},
   "outputs": [],
   "source": [
    "label_smoothing = True\n",
    "\n",
    "opt = optim.Adam(net.parameters(), lr=5e-4)\n",
    "criterion = LabelSmoothedBCEwLL(.2)\n",
    "scheduler = optim.lr_scheduler.StepLR(opt, 1, gamma=.8)\n",
    "\n",
    "train_bl = BatchLoader(X_train, y_train, 40)\n",
    "val_bl = BatchLoader(X_test, y_test, 100)"
   ]
  },
  {
   "cell_type": "code",
   "execution_count": null,
   "metadata": {
    "id": "n7GsA8KT49Vs",
    "scrolled": true
   },
   "outputs": [],
   "source": [
    "best_score, state = train_open_eyes_clf(\n",
    "    net, criterion, opt, train_bl, val_bl, scheduler, device=device,\n",
    "    metric=ROC_EER, epochs=10, continue_val_score=best_score)\n",
    "\n",
    "if state is not None:\n",
    "    print('Saving the model weights')\n",
    "    torch.save(state, 'mrl_eyes_weights.pth')"
   ]
  },
  {
   "cell_type": "code",
   "execution_count": null,
   "metadata": {
    "executionInfo": {
     "elapsed": 18,
     "status": "aborted",
     "timestamp": 1628782721086,
     "user": {
      "displayName": "Vladislav Lukoshkin",
      "photoUrl": "https://lh3.googleusercontent.com/a-/AOh14GgAIbbQf4c7MKDT0LwJRaFCXf_foXX1lhVz9q3ZEg=s64",
      "userId": "13122188955388036365"
     },
     "user_tz": -180
    },
    "id": "5cLVEIjs49Vs"
   },
   "outputs": [],
   "source": [
    "if Path('mrl_eyes_weights.pth').exists():\n",
    "    net = SimpleNet().to(device)\n",
    "    net.load_state_dict(torch.load('mrl_eyes_weights.pth'))"
   ]
  },
  {
   "cell_type": "code",
   "execution_count": null,
   "metadata": {},
   "outputs": [],
   "source": [
    "probs = net.predict(X_test.to(device)).detach().cpu()\n",
    "# mend_labels(dset, (probs > .5).long());"
   ]
  },
  {
   "cell_type": "markdown",
   "metadata": {
    "id": "FHjbIbsD49Vf"
   },
   "source": [
    "# Clustering"
   ]
  },
  {
   "cell_type": "code",
   "execution_count": null,
   "metadata": {
    "executionInfo": {
     "elapsed": 36,
     "status": "ok",
     "timestamp": 1628782491103,
     "user": {
      "displayName": "Vladislav Lukoshkin",
      "photoUrl": "https://lh3.googleusercontent.com/a-/AOh14GgAIbbQf4c7MKDT0LwJRaFCXf_foXX1lhVz9q3ZEg=s64",
      "userId": "13122188955388036365"
     },
     "user_tz": -180
    },
    "id": "-kbcmNcc49Vl"
   },
   "outputs": [],
   "source": [
    "X = torch.Tensor(dset)[:, None] / 255\n",
    "X_train, X_test = train_test_split(X, test_size=.2)"
   ]
  },
  {
   "cell_type": "code",
   "execution_count": null,
   "metadata": {
    "executionInfo": {
     "elapsed": 8,
     "status": "ok",
     "timestamp": 1628782841803,
     "user": {
      "displayName": "Vladislav Lukoshkin",
      "photoUrl": "https://lh3.googleusercontent.com/a-/AOh14GgAIbbQf4c7MKDT0LwJRaFCXf_foXX1lhVz9q3ZEg=s64",
      "userId": "13122188955388036365"
     },
     "user_tz": -180
    },
    "id": "Is11Nhmh49Vr"
   },
   "outputs": [],
   "source": [
    "ae = AutoEncoder(code_size=50).to(device)\n",
    "opt = optim.Adam(ae.parameters(), lr=3e-3)\n",
    "\n",
    "criterion = nn.MSELoss()\n",
    "scheduler = optim.lr_scheduler.StepLR(opt, 1, gamma=.8)\n",
    "\n",
    "train_bl = AEBatchLoader(X_train, 40)\n",
    "val_bl = AEBatchLoader(X_test, 100)"
   ]
  },
  {
   "cell_type": "code",
   "execution_count": null,
   "metadata": {},
   "outputs": [],
   "source": [
    "best_score, state = train_ae(\n",
    "    ae, criterion, opt, train_bl, val_bl,\n",
    "    scheduler, device=device, epochs=20)\n",
    "ae.load_state_dict(state)"
   ]
  },
  {
   "cell_type": "code",
   "execution_count": null,
   "metadata": {},
   "outputs": [],
   "source": [
    "dset_flat = dset.reshape(len(dset), -1)\n",
    "# dset_flat = ae.enc(X).detach().cpu()\n",
    "\n",
    "kmeans = KMeans(n_clusters=2).fit(dset_flat)\n",
    "dist = kmeans.transform(dset_flat)\n",
    "\n",
    "plt.figure()\n",
    "plt.plot(np.sort(dist[:, 0]));\n",
    "plt.plot(np.sort(dist[:, 1]));\n",
    "\n",
    "labels = kmeans.labels_ \n",
    "print(labels.sum()/labels.size)"
   ]
  },
  {
   "cell_type": "code",
   "execution_count": null,
   "metadata": {
    "colab": {
     "base_uri": "https://localhost:8080/",
     "height": 265
    },
    "executionInfo": {
     "elapsed": 43,
     "status": "ok",
     "timestamp": 1628782491099,
     "user": {
      "displayName": "Vladislav Lukoshkin",
      "photoUrl": "https://lh3.googleusercontent.com/a-/AOh14GgAIbbQf4c7MKDT0LwJRaFCXf_foXX1lhVz9q3ZEg=s64",
      "userId": "13122188955388036365"
     },
     "user_tz": -180
    },
    "id": "ujzHEA5549Vj",
    "outputId": "52a8d9aa-8349-44e0-c03e-a49352be5922"
   },
   "outputs": [],
   "source": [
    "n_samples = 1700\n",
    "ids1 = np.argsort(dist[:,1] - dist[:,0])[:n_samples]\n",
    "ids0 = np.argsort(dist[:,0] - dist[:,1])[:n_samples]\n",
    "\n",
    "plt.figure()\n",
    "plt.plot(labels[ids1]);\n",
    "plt.plot(labels[ids0]);"
   ]
  },
  {
   "cell_type": "code",
   "execution_count": null,
   "metadata": {},
   "outputs": [],
   "source": [
    "# dset_trunc = np.concatenate((dset[ids0], dset[ids1]))\n",
    "# labels_trunc = np.r_[np.zeros(len(ids0)), np.ones(len(ids1))]\n",
    "\n",
    "# X = dset_trunc[:, None]\n",
    "# y = labels_trunc\n",
    "\n",
    "X = dset[:, None]\n",
    "y = labels\n",
    "\n",
    "X_train, X_test, y_train, y_test = map(torch.Tensor,\n",
    "    train_test_split(X, y, test_size=.2))"
   ]
  },
  {
   "cell_type": "code",
   "execution_count": null,
   "metadata": {
    "executionInfo": {
     "elapsed": 8,
     "status": "ok",
     "timestamp": 1628782841803,
     "user": {
      "displayName": "Vladislav Lukoshkin",
      "photoUrl": "https://lh3.googleusercontent.com/a-/AOh14GgAIbbQf4c7MKDT0LwJRaFCXf_foXX1lhVz9q3ZEg=s64",
      "userId": "13122188955388036365"
     },
     "user_tz": -180
    },
    "id": "Is11Nhmh49Vr"
   },
   "outputs": [],
   "source": [
    "label_smoothing = True\n",
    "\n",
    "net = SimpleNet().to(device)\n",
    "opt = optim.Adam(net.parameters(), lr=3e-3)\n",
    "\n",
    "criterion = nn.BCEWithLogitsLoss()\n",
    "if label_smoothing:\n",
    "    criterion = LabelSmoothedBCEwLL(.2)\n",
    "\n",
    "scheduler = optim.lr_scheduler.StepLR(opt, 1, gamma=.8)\n",
    "train_bl = BatchLoader(X_train, y_train, 40)\n",
    "val_bl = BatchLoader(X_test, y_test, 100)"
   ]
  },
  {
   "cell_type": "code",
   "execution_count": null,
   "metadata": {
    "id": "n7GsA8KT49Vs"
   },
   "outputs": [],
   "source": [
    "best_score, state = train_open_eyes_clf(\n",
    "    net, criterion, opt, train_bl, val_bl,\n",
    "    device=device, metric=None, epochs=10)\n",
    "\n",
    "net.load_state_dict(state)"
   ]
  },
  {
   "cell_type": "code",
   "execution_count": null,
   "metadata": {},
   "outputs": [],
   "source": [
    "probs = net.predict(X_test.to(device)).detach().cpu()\n",
    "# mend_labels(X_test.squeeze(1), (probs > .5).long());"
   ]
  }
 ],
 "metadata": {
  "accelerator": "GPU",
  "colab": {
   "collapsed_sections": [],
   "name": "Copy of CV.ipynb",
   "provenance": [
    {
     "file_id": "https://github.com/lukoshkin/interview/blob/master/CV/CV.ipynb",
     "timestamp": 1628782029352
    }
   ]
  },
  "kernelspec": {
   "display_name": "Python 3",
   "language": "python",
   "name": "python3"
  },
  "language_info": {
   "codemirror_mode": {
    "name": "ipython",
    "version": 3
   },
   "file_extension": ".py",
   "mimetype": "text/x-python",
   "name": "python",
   "nbconvert_exporter": "python",
   "pygments_lexer": "ipython3",
   "version": "3.7.3"
  },
  "toc": {
   "base_numbering": 1,
   "nav_menu": {},
   "number_sections": true,
   "sideBar": true,
   "skip_h1_title": false,
   "title_cell": "Table of Contents",
   "title_sidebar": "Contents",
   "toc_cell": false,
   "toc_position": {},
   "toc_section_display": true,
   "toc_window_display": false
  }
 },
 "nbformat": 4,
 "nbformat_minor": 5
}
