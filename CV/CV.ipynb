{
 "cells": [
  {
   "cell_type": "code",
   "execution_count": 1,
   "metadata": {},
   "outputs": [],
   "source": [
    "import cv2\n",
    "import numpy as np\n",
    "\n",
    "from pathlib import Path\n",
    "from sklearn.cluster import KMeans\n",
    "from sklearn.model_selection import train_test_split\n",
    "from sklearn.metrics import roc_curve\n",
    "\n",
    "import torch\n",
    "import torch.nn as nn\n",
    "import torch.optim as optim\n",
    "import torch.utils.data as torch_data\n",
    "from torchvision import models as torch_models\n",
    "\n",
    "%matplotlib inline\n",
    "import matplotlib.pyplot as plt\n",
    "\n",
    "seed = 0\n",
    "device = torch.device('cuda' if torch.cuda.is_available() else 'cpu')"
   ]
  },
  {
   "cell_type": "code",
   "execution_count": 2,
   "metadata": {},
   "outputs": [],
   "source": [
    "dset = []\n",
    "for file in Path('EyesDataset').iterdir():\n",
    "    img = cv2.imread(str(file))\n",
    "    dset.append(img)\n",
    "    \n",
    "dset = np.array(dset, dtype='f4') / 255\n",
    "dset_flat = dset.reshape(len(dset), -1)"
   ]
  },
  {
   "cell_type": "code",
   "execution_count": 3,
   "metadata": {},
   "outputs": [
    {
     "data": {
      "image/png": "[encoded data removed]",
      "text/plain": [
       "<Figure size 432x288 with 1 Axes>"
      ]
     },
     "metadata": {
      "needs_background": "light"
     },
     "output_type": "display_data"
    }
   ],
   "source": [
    "kmeans = KMeans(n_clusters=2, random_state=seed).fit(dset_flat)\n",
    "dist = kmeans.transform(dset_flat)\n",
    "\n",
    "plt.plot(np.sort(dist[:, 0]));\n",
    "plt.plot(np.sort(dist[:, 1]));"
   ]
  },
  {
   "cell_type": "code",
   "execution_count": 4,
   "metadata": {
    "scrolled": true
   },
   "outputs": [],
   "source": [
    "# ids = np.arange(dset_flat.shape[1])\n",
    "# plt.scatter(ids, kmeans.cluster_centers_[0]);\n",
    "# plt.scatter(ids, kmeans.cluster_centers_[1]);"
   ]
  },
  {
   "cell_type": "code",
   "execution_count": 5,
   "metadata": {},
   "outputs": [],
   "source": [
    "X = dset.transpose(0, 3, 1, 2)\n",
    "y = kmeans.labels_\n",
    "y = y.astype('f4')\n",
    "y[np.where(y==0)[0]] = .1\n",
    "y[np.where(y==1)[0]] = .9"
   ]
  },
  {
   "cell_type": "code",
   "execution_count": 51,
   "metadata": {},
   "outputs": [],
   "source": [
    "# y_soft = y.copy().astype('f4')\n",
    "# y_soft[np.where(y==0)] = .1\n",
    "# y_soft[np.where(y==1)] = .9"
   ]
  },
  {
   "cell_type": "code",
   "execution_count": 6,
   "metadata": {},
   "outputs": [
    {
     "ename": "IndexError",
     "evalue": "index 32 is out of bounds for axis 0 with size 0",
     "output_type": "error",
     "traceback": [
      "\u001b[0;31m---------------------------------------------------------------------------\u001b[0m",
      "\u001b[0;31mIndexError\u001b[0m                                Traceback (most recent call last)",
      "\u001b[0;32m<ipython-input-6-c9fb1cf43a4c>\u001b[0m in \u001b[0;36m<module>\u001b[0;34m\u001b[0m\n\u001b[1;32m      1\u001b[0m \u001b[0mmask1\u001b[0m \u001b[0;34m=\u001b[0m \u001b[0my\u001b[0m\u001b[0;34m.\u001b[0m\u001b[0mastype\u001b[0m\u001b[0;34m(\u001b[0m\u001b[0;34m'bool'\u001b[0m\u001b[0;34m)\u001b[0m\u001b[0;34m\u001b[0m\u001b[0;34m\u001b[0m\u001b[0m\n\u001b[0;32m----> 2\u001b[0;31m \u001b[0mplt\u001b[0m\u001b[0;34m.\u001b[0m\u001b[0mimshow\u001b[0m\u001b[0;34m(\u001b[0m\u001b[0mdset\u001b[0m\u001b[0;34m[\u001b[0m\u001b[0;34m~\u001b[0m\u001b[0mmask1\u001b[0m\u001b[0;34m]\u001b[0m\u001b[0;34m[\u001b[0m\u001b[0;36m32\u001b[0m\u001b[0;34m]\u001b[0m\u001b[0;34m)\u001b[0m\u001b[0;34m;\u001b[0m\u001b[0;34m\u001b[0m\u001b[0;34m\u001b[0m\u001b[0m\n\u001b[0m",
      "\u001b[0;31mIndexError\u001b[0m: index 32 is out of bounds for axis 0 with size 0"
     ]
    }
   ],
   "source": [
    "mask1 = y.astype('bool')\n",
    "plt.imshow(dset[~mask1][32]);"
   ]
  },
  {
   "cell_type": "code",
   "execution_count": 7,
   "metadata": {},
   "outputs": [],
   "source": [
    "X_train, X_test, y_train, y_test = map(torch.Tensor,\n",
    "    train_test_split(X, y, test_size=.2, random_state=seed))"
   ]
  },
  {
   "cell_type": "code",
   "execution_count": 8,
   "metadata": {},
   "outputs": [],
   "source": [
    "class SimpleNet(nn.Module):\n",
    "    def __init__(self):\n",
    "        super().__init__()\n",
    "        self.main = nn.Sequential(\n",
    "            nn.Conv2d(\n",
    "                3, 32, kernel_size=3,\n",
    "                stride=2, padding=1, bias=False),\n",
    "            nn.BatchNorm2d(32),\n",
    "            nn.LeakyReLU(0.2),\n",
    "\n",
    "            nn.Conv2d(\n",
    "                32, 16, kernel_size=3,\n",
    "                stride=2, padding=1, bias=False),\n",
    "            nn.BatchNorm2d(16),\n",
    "            nn.LeakyReLU(0.2),\n",
    "\n",
    "            nn.Conv2d(\n",
    "                16, 8, kernel_size=3,\n",
    "                stride=2, padding=1, bias=False),\n",
    "            nn.BatchNorm2d(8),\n",
    "            nn.LeakyReLU(0.2),\n",
    "\n",
    "            nn.Conv2d(\n",
    "                8, 4, kernel_size=3,\n",
    "                stride=2, padding=1, bias=False),\n",
    "            nn.BatchNorm2d(4),\n",
    "            nn.LeakyReLU(0.2),\n",
    "            \n",
    "            nn.Conv2d(4, 1, kernel_size=2)\n",
    "        )\n",
    "        \n",
    "    def forward(self, X):\n",
    "        return self.main(X).flatten()\n",
    "    \n",
    "    def predict(self, X):\n",
    "        return self.forward(X).sigmoid()"
   ]
  },
  {
   "cell_type": "code",
   "execution_count": 9,
   "metadata": {},
   "outputs": [],
   "source": [
    "class BatchLoader:\n",
    "    def __init__(self, X, y, batch_size):\n",
    "        self.X = X\n",
    "        self.y = y\n",
    "        self.bs = batch_size\n",
    "        self.gen = None\n",
    "\n",
    "    def _gen(self):\n",
    "        ids = np.arange(len(self.y))\n",
    "        np.random.shuffle(ids)\n",
    "\n",
    "        for i in range(0, len(self.y), self.bs):\n",
    "            yield self.X[i:i+self.bs], self.y[i:i+self.bs]\n",
    "\n",
    "    def __call__(self):\n",
    "        self.gen = self._gen()"
   ]
  },
  {
   "cell_type": "code",
   "execution_count": 10,
   "metadata": {},
   "outputs": [],
   "source": [
    "def ROC_EER(y_true, y_pred, return_roc=False):\n",
    "    if isinstance(y_pred, torch.Tensor):\n",
    "        y_true = y_true.cpu()\n",
    "        y_pred = y_pred.detach().cpu()\n",
    "        \n",
    "    fpr, tpr, _ = roc_curve(y_test, y_pred)\n",
    "    eer = fpr[np.nanargmin(np.absolute(1 - tpr - fpr))]\n",
    "    if return_roc: return eer, fpr, tpr\n",
    "    return eer"
   ]
  },
  {
   "cell_type": "code",
   "execution_count": 11,
   "metadata": {},
   "outputs": [],
   "source": [
    "def train(\n",
    "    net, criterion, optimizer, train_bl, val_bl,\n",
    "    scheduler=None, epochs=10, verbose=True, validation='EER'):\n",
    "    if verbose: print('Epoch\\t\\tTrain\\t\\tValidation')\n",
    "    if validation == 'EER': print('\\t\\t\\t\\tBCE\\tEER')\n",
    "    print()\n",
    "\n",
    "    for epoch in range(1, epochs+1):\n",
    "        train_loss = val_loss = 0\n",
    "        net.train()\n",
    "\n",
    "        train_bl()\n",
    "        val_bl()\n",
    "\n",
    "        for X,y in train_bl.gen:\n",
    "            optimizer.zero_grad()\n",
    "\n",
    "            X, y = X.to(device), y.to(device)\n",
    "            \n",
    "            loss = criterion(net(X), y)\n",
    "            loss.backward()\n",
    "            train_loss += loss.item() * len(y)/len(train_bl.y)\n",
    "\n",
    "            optimizer.step()\n",
    "\n",
    "        net.eval()\n",
    "        for X,y in val_bl.gen:\n",
    "            X, y = X.to(device), y.to(device)\n",
    "\n",
    "            y_pred = net(X)\n",
    "            loss = criterion(y_pred, y)\n",
    "\n",
    "            val_loss += loss.item() * len(y)/len(val_bl.y)\n",
    "\n",
    "        if scheduler is not None: scheduler.step()\n",
    "\n",
    "        freq = max(epochs//20, 1)\n",
    "        if verbose and epoch % freq == 0:\n",
    "            logline = f'{epoch}/{epochs}\\t\\t{train_loss:.4}\\t\\t{val_loss:.4f}'\n",
    "            if validation == 'EER': logline += f'\\t{ROC_EER(val_bl.y, net(val_bl.X)):.4}'\n",
    "            print(logline)"
   ]
  },
  {
   "cell_type": "code",
   "execution_count": 12,
   "metadata": {},
   "outputs": [],
   "source": [
    "net = SimpleNet().to(device)\n",
    "opt = optim.Adam(net.parameters(), lr=3e-3)\n",
    "\n",
    "criterion = nn.BCEWithLogitsLoss()\n",
    "\n",
    "train_bl = BatchLoader(X_train, y_train, 100)\n",
    "val_bl = BatchLoader(X_test, y_test, 100)"
   ]
  },
  {
   "cell_type": "code",
   "execution_count": 14,
   "metadata": {},
   "outputs": [
    {
     "name": "stdout",
     "output_type": "stream",
     "text": [
      "Epoch\t\tTrain\t\tValidation\n",
      "\n",
      "1/20\t\t0.3875\t\t0.3723\n",
      "2/20\t\t0.3812\t\t0.3686\n",
      "3/20\t\t0.3783\t\t0.3675\n",
      "4/20\t\t0.3762\t\t0.3664\n",
      "5/20\t\t0.3741\t\t0.3661\n",
      "6/20\t\t0.3726\t\t0.3663\n",
      "7/20\t\t0.3712\t\t0.3660\n",
      "8/20\t\t0.3697\t\t0.3667\n",
      "9/20\t\t0.3684\t\t0.3674\n",
      "10/20\t\t0.367\t\t0.3694\n",
      "11/20\t\t0.3658\t\t0.3690\n",
      "12/20\t\t0.3643\t\t0.3676\n",
      "13/20\t\t0.3633\t\t0.3872\n",
      "14/20\t\t0.3617\t\t0.3727\n",
      "15/20\t\t0.3603\t\t0.3848\n",
      "16/20\t\t0.3591\t\t0.3820\n",
      "17/20\t\t0.358\t\t0.3734\n",
      "18/20\t\t0.3567\t\t0.3879\n",
      "19/20\t\t0.3558\t\t0.3800\n",
      "20/20\t\t0.3549\t\t0.4199\n"
     ]
    }
   ],
   "source": [
    "train(net, criterion, opt, train_bl, val_bl, epochs=20, validation=None)"
   ]
  },
  {
   "cell_type": "code",
   "execution_count": 18,
   "metadata": {},
   "outputs": [],
   "source": [
    "y_pred = net.predict(X_test)\n",
    "eer, fpr, tpr = ROC_EER(y_test, y_pred, return_roc=True)"
   ]
  },
  {
   "cell_type": "code",
   "execution_count": 19,
   "metadata": {},
   "outputs": [
    {
     "name": "stdout",
     "output_type": "stream",
     "text": [
      "EER = 0.03826530612244898\n"
     ]
    },
    {
     "data": {
      "image/png": "[encoded data removed]",
      "text/plain": [
       "<Figure size 432x288 with 1 Axes>"
      ]
     },
     "metadata": {
      "needs_background": "light"
     },
     "output_type": "display_data"
    }
   ],
   "source": [
    "x = np.linspace(0, 1, num=len(fpr))\n",
    "print('EER =', eer)\n",
    "\n",
    "plt.plot(x, 1-x);\n",
    "plt.plot(fpr, tpr);"
   ]
  },
  {
   "cell_type": "code",
   "execution_count": null,
   "metadata": {},
   "outputs": [],
   "source": []
  }
 ],
 "metadata": {
  "kernelspec": {
   "display_name": "Python 3",
   "language": "python",
   "name": "python3"
  },
  "language_info": {
   "codemirror_mode": {
    "name": "ipython",
    "version": 3
   },
   "file_extension": ".py",
   "mimetype": "text/x-python",
   "name": "python",
   "nbconvert_exporter": "python",
   "pygments_lexer": "ipython3",
   "version": "3.7.3"
  },
  "toc": {
   "base_numbering": 1,
   "nav_menu": {},
   "number_sections": true,
   "sideBar": true,
   "skip_h1_title": false,
   "title_cell": "Table of Contents",
   "title_sidebar": "Contents",
   "toc_cell": false,
   "toc_position": {},
   "toc_section_display": true,
   "toc_window_display": false
  }
 },
 "nbformat": 4,
 "nbformat_minor": 5
}
