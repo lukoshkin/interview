{
 "cells": [
  {
   "cell_type": "code",
   "execution_count": null,
   "metadata": {
    "colab": {
     "base_uri": "https://localhost:8080/"
    },
    "executionInfo": {
     "elapsed": 2118,
     "status": "ok",
     "timestamp": 1628782325409,
     "user": {
      "displayName": "Vladislav Lukoshkin",
      "photoUrl": "https://lh3.googleusercontent.com/a-/AOh14GgAIbbQf4c7MKDT0LwJRaFCXf_foXX1lhVz9q3ZEg=s64",
      "userId": "13122188955388036365"
     },
     "user_tz": -180
    },
    "id": "t48b2vSw5WiE",
    "outputId": "afb250b2-fbf6-4a1f-e056-79d3b55db4e6"
   },
   "outputs": [],
   "source": [
    "COLAB = True if 'google.colab' in str(get_ipython()) else False\n",
    "\n",
    "if COLAB:\n",
    "    !rm -rf interview\n",
    "    !git clone https://github.com/lukoshkin/interview.git\n",
    "    !mv -n interview/CV/* .\n",
    "    !unzip -nq EyesDataset.zip"
   ]
  },
  {
   "cell_type": "code",
   "execution_count": null,
   "metadata": {
    "executionInfo": {
     "elapsed": 5943,
     "status": "ok",
     "timestamp": 1628782337281,
     "user": {
      "displayName": "Vladislav Lukoshkin",
      "photoUrl": "https://lh3.googleusercontent.com/a-/AOh14GgAIbbQf4c7MKDT0LwJRaFCXf_foXX1lhVz9q3ZEg=s64",
      "userId": "13122188955388036365"
     },
     "user_tz": -180
    },
    "id": "QvuBbJD749Vb"
   },
   "outputs": [],
   "source": [
    "if COLAB:\n",
    "    %matplotlib inline\n",
    "else:\n",
    "    %matplotlib notebook\n",
    "\n",
    "import cv2\n",
    "import copy\n",
    "import numpy as np\n",
    "import matplotlib.pyplot as plt\n",
    "\n",
    "from pathlib import Path\n",
    "from sklearn.cluster import KMeans\n",
    "from sklearn.model_selection import train_test_split\n",
    "from sklearn.metrics import roc_curve\n",
    "\n",
    "import torch\n",
    "import torch.nn as nn\n",
    "import torch.optim as optim\n",
    "import torch.utils.data as torch_data\n",
    "from torchvision import models as torch_models\n",
    "from torchvision.datasets import ImageFolder\n",
    "\n",
    "\n",
    "seed = 0\n",
    "device = torch.device('cuda' if torch.cuda.is_available() else 'cpu')\n",
    "\n",
    "SAVE = False\n",
    "LOAD = True"
   ]
  },
  {
   "cell_type": "markdown",
   "metadata": {
    "deletable": false,
    "editable": false,
    "id": "FHjbIbsD49Vf",
    "run_control": {
     "frozen": true
    }
   },
   "source": [
    "# First Attempts"
   ]
  },
  {
   "cell_type": "code",
   "execution_count": null,
   "metadata": {
    "executionInfo": {
     "elapsed": 758,
     "status": "ok",
     "timestamp": 1628782487970,
     "user": {
      "displayName": "Vladislav Lukoshkin",
      "photoUrl": "https://lh3.googleusercontent.com/a-/AOh14GgAIbbQf4c7MKDT0LwJRaFCXf_foXX1lhVz9q3ZEg=s64",
      "userId": "13122188955388036365"
     },
     "user_tz": -180
    },
    "id": "oZT154MU49Vg"
   },
   "outputs": [],
   "source": [
    "dset = []\n",
    "filenames = []\n",
    "! unzip -qn EyesDataset.zip\n",
    "for file in Path('EyesDataset').iterdir():\n",
    "    filenames.append(str(file))\n",
    "    img = cv2.imread(str(file))\n",
    "    dset.append(img)\n",
    "    \n",
    "dset = np.array(dset, dtype='f4') / 255\n",
    "dset_flat = dset.reshape(len(dset), -1)"
   ]
  },
  {
   "cell_type": "code",
   "execution_count": null,
   "metadata": {
    "colab": {
     "base_uri": "https://localhost:8080/",
     "height": 282
    },
    "executionInfo": {
     "elapsed": 3136,
     "status": "ok",
     "timestamp": 1628782491097,
     "user": {
      "displayName": "Vladislav Lukoshkin",
      "photoUrl": "https://lh3.googleusercontent.com/a-/AOh14GgAIbbQf4c7MKDT0LwJRaFCXf_foXX1lhVz9q3ZEg=s64",
      "userId": "13122188955388036365"
     },
     "user_tz": -180
    },
    "id": "Y1H6sp_l49Vh",
    "outputId": "2b129b47-1e14-48b3-db91-eca451e5adb0"
   },
   "outputs": [],
   "source": [
    "kmeans = KMeans(n_clusters=2, random_state=seed).fit(dset_flat)\n",
    "dist = kmeans.transform(dset_flat)\n",
    "\n",
    "plt.figure()\n",
    "plt.plot(np.sort(dist[:, 0]));\n",
    "plt.plot(np.sort(dist[:, 1]));\n",
    "\n",
    "labels = kmeans.labels_ \n",
    "print(labels.sum()/labels.size)"
   ]
  },
  {
   "cell_type": "code",
   "execution_count": null,
   "metadata": {
    "colab": {
     "base_uri": "https://localhost:8080/",
     "height": 265
    },
    "executionInfo": {
     "elapsed": 43,
     "status": "ok",
     "timestamp": 1628782491099,
     "user": {
      "displayName": "Vladislav Lukoshkin",
      "photoUrl": "https://lh3.googleusercontent.com/a-/AOh14GgAIbbQf4c7MKDT0LwJRaFCXf_foXX1lhVz9q3ZEg=s64",
      "userId": "13122188955388036365"
     },
     "user_tz": -180
    },
    "id": "ujzHEA5549Vj",
    "outputId": "52a8d9aa-8349-44e0-c03e-a49352be5922"
   },
   "outputs": [],
   "source": [
    "n_samples = 1800\n",
    "ids1 = np.argsort(dist[:,1] - dist[:,0])[:n_samples]\n",
    "ids0 = np.argsort(dist[:,0] - dist[:,1])[:n_samples]\n",
    "\n",
    "plt.figure()\n",
    "plt.plot(labels[ids1]);\n",
    "plt.plot(labels[ids0]);"
   ]
  },
  {
   "cell_type": "code",
   "execution_count": null,
   "metadata": {
    "colab": {
     "base_uri": "https://localhost:8080/",
     "height": 265
    },
    "executionInfo": {
     "elapsed": 39,
     "status": "ok",
     "timestamp": 1628782491101,
     "user": {
      "displayName": "Vladislav Lukoshkin",
      "photoUrl": "https://lh3.googleusercontent.com/a-/AOh14GgAIbbQf4c7MKDT0LwJRaFCXf_foXX1lhVz9q3ZEg=s64",
      "userId": "13122188955388036365"
     },
     "user_tz": -180
    },
    "id": "7464T_cI49Vk",
    "outputId": "a5eedf83-c03b-4ca1-fdce-591ac6385819",
    "scrolled": false
   },
   "outputs": [],
   "source": [
    "mask1 = labels.astype('bool')\n",
    "plt.figure()\n",
    "plt.imshow(dset[~mask1][32]);"
   ]
  },
  {
   "cell_type": "code",
   "execution_count": null,
   "metadata": {
    "executionInfo": {
     "elapsed": 36,
     "status": "ok",
     "timestamp": 1628782491103,
     "user": {
      "displayName": "Vladislav Lukoshkin",
      "photoUrl": "https://lh3.googleusercontent.com/a-/AOh14GgAIbbQf4c7MKDT0LwJRaFCXf_foXX1lhVz9q3ZEg=s64",
      "userId": "13122188955388036365"
     },
     "user_tz": -180
    },
    "id": "-kbcmNcc49Vl"
   },
   "outputs": [],
   "source": [
    "X = dset.transpose(0, 3, 1, 2)\n",
    "y = labels\n",
    "\n",
    "X_train, X_test, y_train, y_test = map(torch.Tensor,\n",
    "    train_test_split(X, y, test_size=.2, random_state=seed))"
   ]
  },
  {
   "cell_type": "code",
   "execution_count": null,
   "metadata": {
    "executionInfo": {
     "elapsed": 34,
     "status": "ok",
     "timestamp": 1628782491105,
     "user": {
      "displayName": "Vladislav Lukoshkin",
      "photoUrl": "https://lh3.googleusercontent.com/a-/AOh14GgAIbbQf4c7MKDT0LwJRaFCXf_foXX1lhVz9q3ZEg=s64",
      "userId": "13122188955388036365"
     },
     "user_tz": -180
    },
    "id": "6d8kUBcG49Vm"
   },
   "outputs": [],
   "source": [
    "class SimpleNet(nn.Module):\n",
    "    def __init__(self):\n",
    "        super().__init__()\n",
    "        self.main = nn.Sequential(\n",
    "            nn.Conv2d(\n",
    "                3, 32, kernel_size=3,\n",
    "                stride=2, padding=1, bias=False),\n",
    "            nn.BatchNorm2d(32),\n",
    "            nn.LeakyReLU(.2),\n",
    "\n",
    "            nn.Conv2d(\n",
    "                32, 16, kernel_size=3,\n",
    "                stride=2, padding=1, bias=False),\n",
    "            nn.BatchNorm2d(16),\n",
    "            nn.LeakyReLU(.2),\n",
    "\n",
    "            nn.Conv2d(\n",
    "                16, 8, kernel_size=3,\n",
    "                stride=2, padding=1, bias=False),\n",
    "            nn.BatchNorm2d(8),\n",
    "            nn.LeakyReLU(.2),\n",
    "\n",
    "            nn.Conv2d(\n",
    "                8, 4, kernel_size=3,\n",
    "                stride=2, padding=1, bias=False),\n",
    "            nn.BatchNorm2d(4),\n",
    "            nn.LeakyReLU(.2),\n",
    "            \n",
    "            nn.Conv2d(4, 1, kernel_size=2)\n",
    "        )\n",
    "        \n",
    "    def forward(self, X):\n",
    "        return self.main(X).flatten()\n",
    "    \n",
    "    def predict(self, X):\n",
    "        return self.forward(X).sigmoid()"
   ]
  },
  {
   "cell_type": "code",
   "execution_count": null,
   "metadata": {
    "executionInfo": {
     "elapsed": 34,
     "status": "ok",
     "timestamp": 1628782491107,
     "user": {
      "displayName": "Vladislav Lukoshkin",
      "photoUrl": "https://lh3.googleusercontent.com/a-/AOh14GgAIbbQf4c7MKDT0LwJRaFCXf_foXX1lhVz9q3ZEg=s64",
      "userId": "13122188955388036365"
     },
     "user_tz": -180
    },
    "id": "lNno3K2Q49Vn"
   },
   "outputs": [],
   "source": [
    "class BatchLoader:\n",
    "    def __init__(self, X, y, batch_size):\n",
    "        self.X = X\n",
    "        self.y = y\n",
    "        self.batch_size = batch_size\n",
    "        self._reinit()\n",
    "        \n",
    "    def __len__(self):\n",
    "        return len(self.y) // self.batch_size\n",
    "\n",
    "    def _gen(self):\n",
    "        bs = self.batch_size  # alias\n",
    "        ids = np.arange(len(self.y))\n",
    "        np.random.shuffle(ids)\n",
    "\n",
    "        for i in range(0, len(self.y), bs):\n",
    "            yield self.X[i:i+bs], self.y[i:i+bs]\n",
    "            \n",
    "        self._reinit()\n",
    "\n",
    "    def _reinit(self):\n",
    "        self.gen = self._gen()\n",
    "        \n",
    "    def __iter__(self):\n",
    "        return self.gen"
   ]
  },
  {
   "cell_type": "code",
   "execution_count": null,
   "metadata": {
    "executionInfo": {
     "elapsed": 338,
     "status": "ok",
     "timestamp": 1628783541589,
     "user": {
      "displayName": "Vladislav Lukoshkin",
      "photoUrl": "https://lh3.googleusercontent.com/a-/AOh14GgAIbbQf4c7MKDT0LwJRaFCXf_foXX1lhVz9q3ZEg=s64",
      "userId": "13122188955388036365"
     },
     "user_tz": -180
    },
    "id": "jgMgTRqL49Vo"
   },
   "outputs": [],
   "source": [
    "def ROC_EER(y_true, y_pred, return_roc=False):\n",
    "    if isinstance(y_pred, torch.Tensor):\n",
    "        y_true = y_true.cpu()\n",
    "        y_pred = y_pred.detach().cpu()\n",
    "    \n",
    "    fpr, tpr, _ = roc_curve(y_true, y_pred)\n",
    "    eer = fpr[np.nanargmin(np.absolute(1 - tpr - fpr))]\n",
    "    if return_roc: return eer, fpr, tpr\n",
    "    return eer"
   ]
  },
  {
   "cell_type": "code",
   "execution_count": null,
   "metadata": {
    "executionInfo": {
     "elapsed": 320,
     "status": "ok",
     "timestamp": 1628783543965,
     "user": {
      "displayName": "Vladislav Lukoshkin",
      "photoUrl": "https://lh3.googleusercontent.com/a-/AOh14GgAIbbQf4c7MKDT0LwJRaFCXf_foXX1lhVz9q3ZEg=s64",
      "userId": "13122188955388036365"
     },
     "user_tz": -180
    },
    "id": "_FHRtyAe49Vp"
   },
   "outputs": [],
   "source": [
    "def train(\n",
    "    net, criterion, optimizer, train_bl, val_bl,\n",
    "    scheduler=None, epochs=10, verbose=True,\n",
    "    validation='EER', best_val_score=None):\n",
    "\n",
    "    if verbose:\n",
    "        print('Epoch\\t\\tTrain\\t\\tValidation')\n",
    "        if validation == 'EER': print('\\t\\t\\t\\tBCE\\tEER')\n",
    "        print()\n",
    "\n",
    "    if best_val_score is None:\n",
    "        best_val_score = float('inf')\n",
    "        best_model_state = None\n",
    "\n",
    "    for epoch in range(1, epochs+1):\n",
    "        train_loss = val_loss = 0\n",
    "        net.train()\n",
    "\n",
    "        for X,y in train_bl:\n",
    "            optimizer.zero_grad()\n",
    "\n",
    "            X, y = X.to(device), y.to(device)\n",
    "\n",
    "            loss = criterion(net(X), y)\n",
    "            loss.backward()\n",
    "            train_loss += loss.item() * len(y)/train_bl.batch_size\n",
    "\n",
    "            optimizer.step()\n",
    "        train_loss /= len(train_bl)\n",
    "\n",
    "        net.eval()\n",
    "        Y = torch.Tensor([])\n",
    "        Y_pred = torch.Tensor([])\n",
    "\n",
    "        for X,y in val_bl:\n",
    "            Y = torch.cat((Y, y))\n",
    "            X, y = X.to(device), y.to(device)\n",
    "\n",
    "            logits = net(X)\n",
    "            loss = criterion(logits, y)\n",
    "            \n",
    "            y_pred = logits.detach().sigmoid()\n",
    "            Y_pred = torch.cat((Y_pred, y_pred.cpu()))\n",
    "\n",
    "            val_loss += loss.item() * len(y)/val_bl.batch_size\n",
    "\n",
    "        val_loss /= len(val_bl)\n",
    "        val_score = val_loss\n",
    "        if validation == 'EER':\n",
    "            val_score = ROC_EER(Y, Y_pred)\n",
    "\n",
    "        if val_score < best_val_score:\n",
    "            best_val_score = val_score\n",
    "            best_model_state = copy.deepcopy(net.state_dict())\n",
    "\n",
    "        if scheduler is not None: scheduler.step()\n",
    "\n",
    "        freq = max(epochs//20, 1)\n",
    "        if verbose and epoch % freq == 0:\n",
    "            logline = f'{epoch}/{epochs}\\t\\t{train_loss:.4}\\t\\t{val_loss:.4f}'\n",
    "            if validation == 'EER': logline += f'\\t{val_score:.4}'\n",
    "            print(logline)\n",
    "\n",
    "    return best_val_score, best_model_state"
   ]
  },
  {
   "cell_type": "code",
   "execution_count": null,
   "metadata": {
    "executionInfo": {
     "elapsed": 5,
     "status": "ok",
     "timestamp": 1628782841518,
     "user": {
      "displayName": "Vladislav Lukoshkin",
      "photoUrl": "https://lh3.googleusercontent.com/a-/AOh14GgAIbbQf4c7MKDT0LwJRaFCXf_foXX1lhVz9q3ZEg=s64",
      "userId": "13122188955388036365"
     },
     "user_tz": -180
    },
    "id": "XUEJN65D49Vq"
   },
   "outputs": [],
   "source": [
    "class LabelSmoothedBCEwLL(nn.BCEWithLogitsLoss):\n",
    "    \"\"\"\n",
    "    In this implementation, the effect of label smoothing is\n",
    "    taken into account in the regularization term. This loss\n",
    "    is completely equivalent to the actual label smoothing\n",
    "    implemented below, when the hyperparmeter epsilon is\n",
    "    twice as the commented out one.\n",
    "    \"\"\"\n",
    "    def __init__(self, eps=.2):\n",
    "        super().__init__()\n",
    "        self.eps = eps\n",
    "        \n",
    "    def forward(self, input, target):\n",
    "        base_loss = super().forward(input, target)\n",
    "        dummy_target = torch.empty_like(target).fill_(.5)\n",
    "        reg_term = super().forward(input, dummy_target)\n",
    "        return (1-self.eps)*base_loss + self.eps*reg_term\n",
    "\n",
    "# class LabelSmoothedBCEwLL(nn.BCEWithLogitsLoss):\n",
    "#     def __init__(self, eps=.1):\n",
    "#         super().__init__()\n",
    "#         self.eps = eps\n",
    "        \n",
    "#     def forward(self, input, target):\n",
    "#         target = target.clone()\n",
    "#         target[np.where(target == 0)] = self.eps\n",
    "#         target[np.where(target == 1)] = 1 - self.eps\n",
    "#         return super().forward(input, target)"
   ]
  },
  {
   "cell_type": "code",
   "execution_count": null,
   "metadata": {
    "executionInfo": {
     "elapsed": 8,
     "status": "ok",
     "timestamp": 1628782841803,
     "user": {
      "displayName": "Vladislav Lukoshkin",
      "photoUrl": "https://lh3.googleusercontent.com/a-/AOh14GgAIbbQf4c7MKDT0LwJRaFCXf_foXX1lhVz9q3ZEg=s64",
      "userId": "13122188955388036365"
     },
     "user_tz": -180
    },
    "id": "Is11Nhmh49Vr"
   },
   "outputs": [],
   "source": [
    "label_smoothing = True\n",
    "\n",
    "net = SimpleNet().to(device)\n",
    "opt = optim.Adam(net.parameters(), lr=3e-3)\n",
    "\n",
    "criterion = nn.BCEWithLogitsLoss()\n",
    "if label_smoothing:\n",
    "    criterion = LabelSmoothedBCEwLL(.4)\n",
    "\n",
    "train_bl = BatchLoader(X_train, y_train, 40)\n",
    "val_bl = BatchLoader(X_test, y_test, 100)"
   ]
  },
  {
   "cell_type": "code",
   "execution_count": null,
   "metadata": {
    "id": "n7GsA8KT49Vs"
   },
   "outputs": [],
   "source": [
    "_, state = train(net, criterion, opt, train_bl, val_bl, epochs=10, validation='EER')\n",
    "if SAVE: torch.save(state, 'weights.pth')"
   ]
  },
  {
   "cell_type": "code",
   "execution_count": null,
   "metadata": {
    "executionInfo": {
     "elapsed": 18,
     "status": "aborted",
     "timestamp": 1628782721086,
     "user": {
      "displayName": "Vladislav Lukoshkin",
      "photoUrl": "https://lh3.googleusercontent.com/a-/AOh14GgAIbbQf4c7MKDT0LwJRaFCXf_foXX1lhVz9q3ZEg=s64",
      "userId": "13122188955388036365"
     },
     "user_tz": -180
    },
    "id": "5cLVEIjs49Vs"
   },
   "outputs": [],
   "source": [
    "if LOAD:\n",
    "    net = SimpleNet()\n",
    "    net.load_state_dict(\n",
    "        torch.load('weights.pth', map_location=device))"
   ]
  },
  {
   "cell_type": "code",
   "execution_count": null,
   "metadata": {
    "id": "vT5xOmwS49Vt"
   },
   "outputs": [],
   "source": [
    "y_pred = net.predict(X_test)\n",
    "eer, fpr, tpr = ROC_EER(y_test, y_pred, return_roc=True)"
   ]
  },
  {
   "cell_type": "code",
   "execution_count": null,
   "metadata": {
    "colab": {
     "base_uri": "https://localhost:8080/",
     "height": 282
    },
    "executionInfo": {
     "elapsed": 36,
     "status": "ok",
     "timestamp": 1628782506842,
     "user": {
      "displayName": "Vladislav Lukoshkin",
      "photoUrl": "https://lh3.googleusercontent.com/a-/AOh14GgAIbbQf4c7MKDT0LwJRaFCXf_foXX1lhVz9q3ZEg=s64",
      "userId": "13122188955388036365"
     },
     "user_tz": -180
    },
    "id": "F7LkGcug49Vt",
    "outputId": "a7f351f1-9a74-4b4c-a19b-7303ec0c14f1"
   },
   "outputs": [],
   "source": [
    "x = np.linspace(0, 1, num=len(fpr))\n",
    "print('EER =', eer)\n",
    "\n",
    "plt.figure()\n",
    "plt.plot(x, 1-x);\n",
    "plt.plot(fpr, tpr);"
   ]
  },
  {
   "cell_type": "markdown",
   "metadata": {
    "id": "dBS1cBW349Vu"
   },
   "source": [
    "# Manual Labeling"
   ]
  },
  {
   "cell_type": "code",
   "execution_count": null,
   "metadata": {
    "executionInfo": {
     "elapsed": 427,
     "status": "ok",
     "timestamp": 1628782847505,
     "user": {
      "displayName": "Vladislav Lukoshkin",
      "photoUrl": "https://lh3.googleusercontent.com/a-/AOh14GgAIbbQf4c7MKDT0LwJRaFCXf_foXX1lhVz9q3ZEg=s64",
      "userId": "13122188955388036365"
     },
     "user_tz": -180
    },
    "id": "bg8Ff7KU49Vu"
   },
   "outputs": [],
   "source": [
    "def rectify_labels(X, y, i_start=0, max_iters=None):\n",
    "    \"\"\"\n",
    "    A tool for manual labeling in Jupyter Notebook\n",
    "    \"\"\"\n",
    "    fig, ax = plt.subplots()\n",
    "\n",
    "    y_upd = copy.deepcopy(y)\n",
    "    Xinit = X[0].permute(1, 2, 0)\n",
    "    img = ax.imshow(Xinit)\n",
    "    break_flag = False\n",
    "    \n",
    "    try:\n",
    "        for i in range(i_start, len(y)):\n",
    "            img.set_data(X[i].permute(1, 2, 0))\n",
    "            ax.set_title(f'y={y[i]}')\n",
    "            fig.canvas.draw()\n",
    "            res = input().strip()\n",
    "            if res:\n",
    "                if int(res) in [0, 1]:\n",
    "                    y_upd[i] = int(res)\n",
    "                else:\n",
    "                    y_upd[i] = 1\n",
    "                    print('Considering input as 1')\n",
    "\n",
    "            if ((max_iters is not None)\n",
    "                and (i - i_start >= max_iters-1)):\n",
    "                break_flag = True\n",
    "                break\n",
    "\n",
    "    except KeyboardInterrupt: pass\n",
    "    finally: return i+1, break_flag, y_upd"
   ]
  },
  {
   "cell_type": "code",
   "execution_count": null,
   "metadata": {
    "executionInfo": {
     "elapsed": 11,
     "status": "ok",
     "timestamp": 1628782847508,
     "user": {
      "displayName": "Vladislav Lukoshkin",
      "photoUrl": "https://lh3.googleusercontent.com/a-/AOh14GgAIbbQf4c7MKDT0LwJRaFCXf_foXX1lhVz9q3ZEg=s64",
      "userId": "13122188955388036365"
     },
     "user_tz": -180
    },
    "id": "IikpycYR49Vu"
   },
   "outputs": [],
   "source": [
    "def mend_labels(X, y, clear_after=5):\n",
    "    \"\"\"\n",
    "    Wrapper over `rectify_labels`\n",
    "    preventing the input bar from running far down \n",
    "    \"\"\"\n",
    "    i_end = 0\n",
    "    y_upd = copy.deepcopy(y)\n",
    "    break_flag = True\n",
    "    \n",
    "\n",
    "    while break_flag:\n",
    "        i_end, break_flag, y_upd = rectify_labels(\n",
    "            X, y_upd, i_end, max_iters=clear_after)\n",
    "        clear_output()\n",
    "\n",
    "    return y_upd"
   ]
  },
  {
   "cell_type": "markdown",
   "metadata": {
    "deletable": false,
    "editable": false,
    "id": "f1xm-YEt49Vv",
    "run_control": {
     "frozen": true
    }
   },
   "source": [
    "# Third-Party Dataset"
   ]
  },
  {
   "cell_type": "code",
   "execution_count": null,
   "metadata": {
    "executionInfo": {
     "elapsed": 7,
     "status": "ok",
     "timestamp": 1628782847837,
     "user": {
      "displayName": "Vladislav Lukoshkin",
      "photoUrl": "https://lh3.googleusercontent.com/a-/AOh14GgAIbbQf4c7MKDT0LwJRaFCXf_foXX1lhVz9q3ZEg=s64",
      "userId": "13122188955388036365"
     },
     "user_tz": -180
    },
    "id": "NOGaPr_F49Vv"
   },
   "outputs": [],
   "source": [
    "class MRLEyesData(torch_data.Dataset):\n",
    "    def __init__(self, root_dir=None, fnames=None):\n",
    "        super().__init__()\n",
    "        if root_dir is not None:\n",
    "            self.fnames = list(Path(root_dir).rglob('*.png'))\n",
    "        elif fnames is not None:\n",
    "            self.fnames = fnames\n",
    "        else:\n",
    "            raise ValueError(\n",
    "                'root_dir or fnames '\n",
    "                'should be specified')\n",
    "\n",
    "        self.targets = []\n",
    "        for fname in self.fnames:\n",
    "            self.targets.append(float(fname.stem.split('_')[4]))\n",
    "\n",
    "    def __len__(self):\n",
    "        return len(self.targets)\n",
    "\n",
    "    def __getitem__(self, idx):\n",
    "        fname = self.fnames[idx]\n",
    "        target = self.targets[idx]\n",
    "        \n",
    "        img = cv2.imread(str(fname))\n",
    "        img = cv2.resize(img, (24, 24))\n",
    "        img = img.transpose(2, 0, 1).astype('f4') / 255\n",
    "        return img, target"
   ]
  },
  {
   "cell_type": "code",
   "execution_count": null,
   "metadata": {
    "colab": {
     "base_uri": "https://localhost:8080/"
    },
    "executionInfo": {
     "elapsed": 1927,
     "status": "ok",
     "timestamp": 1628782851343,
     "user": {
      "displayName": "Vladislav Lukoshkin",
      "photoUrl": "https://lh3.googleusercontent.com/a-/AOh14GgAIbbQf4c7MKDT0LwJRaFCXf_foXX1lhVz9q3ZEg=s64",
      "userId": "13122188955388036365"
     },
     "user_tz": -180
    },
    "id": "WGyspvJb49Vw",
    "outputId": "041587b5-2ce9-4249-c5da-f7cc88443308"
   },
   "outputs": [],
   "source": [
    "! wget -nc http://mrl.cs.vsb.cz/data/eyedataset/mrlEyes_2018_01.zip\n",
    "! unzip -nq mrlEyes_2018_01.zip\n",
    "fnames = list(Path('mrlEyes_2018_01').rglob('*.png'))\n",
    "X_train, X_test = train_test_split(fnames, test_size=.2)"
   ]
  },
  {
   "cell_type": "code",
   "execution_count": null,
   "metadata": {
    "colab": {
     "base_uri": "https://localhost:8080/"
    },
    "executionInfo": {
     "elapsed": 33,
     "status": "ok",
     "timestamp": 1628782851345,
     "user": {
      "displayName": "Vladislav Lukoshkin",
      "photoUrl": "https://lh3.googleusercontent.com/a-/AOh14GgAIbbQf4c7MKDT0LwJRaFCXf_foXX1lhVz9q3ZEg=s64",
      "userId": "13122188955388036365"
     },
     "user_tz": -180
    },
    "id": "7kt5nnDC49Vx",
    "outputId": "607a5ad5-c8cd-44f6-9a11-f2bd1f14e04a"
   },
   "outputs": [],
   "source": [
    "train_ds = MRLEyesData(fnames=X_train)\n",
    "val_ds = MRLEyesData(fnames=X_train)\n",
    "\n",
    "num_workers = !lscpu | grep 'CPU(s)' | head -1 | tr -s ' ' | cut -d ' ' -f2\n",
    "num_workers = int(num_workers[0])\n",
    "\n",
    "train_bl = torch_data.DataLoader(\n",
    "    train_ds, batch_size=100, shuffle=True, num_workers=num_workers)\n",
    "val_bl = torch_data.DataLoader(\n",
    "    val_ds, batch_size=100, shuffle=True, num_workers=num_workers)\n",
    "\n",
    "print(sum(train_ds.targets) / len(train_ds))"
   ]
  },
  {
   "cell_type": "code",
   "execution_count": null,
   "metadata": {
    "executionInfo": {
     "elapsed": 8,
     "status": "ok",
     "timestamp": 1628782852423,
     "user": {
      "displayName": "Vladislav Lukoshkin",
      "photoUrl": "https://lh3.googleusercontent.com/a-/AOh14GgAIbbQf4c7MKDT0LwJRaFCXf_foXX1lhVz9q3ZEg=s64",
      "userId": "13122188955388036365"
     },
     "user_tz": -180
    },
    "id": "J-SYi4LU49Vx"
   },
   "outputs": [],
   "source": [
    "# if SAVE:\n",
    "#     X, y = next(iter(dloader))\n",
    "#     np.savez('mrleye_valset', X=X, y=y)"
   ]
  },
  {
   "cell_type": "code",
   "execution_count": null,
   "metadata": {
    "executionInfo": {
     "elapsed": 7,
     "status": "ok",
     "timestamp": 1628782852708,
     "user": {
      "displayName": "Vladislav Lukoshkin",
      "photoUrl": "https://lh3.googleusercontent.com/a-/AOh14GgAIbbQf4c7MKDT0LwJRaFCXf_foXX1lhVz9q3ZEg=s64",
      "userId": "13122188955388036365"
     },
     "user_tz": -180
    },
    "id": "CCnUucEM49Vy"
   },
   "outputs": [],
   "source": [
    "# if LOAD:\n",
    "#     data = np.load('mrleye_valset.npz')\n",
    "#     X_test = torch.Tensor(data['X'])\n",
    "#     y_test = torch.Tensor(data['y'])"
   ]
  },
  {
   "cell_type": "code",
   "execution_count": null,
   "metadata": {
    "executionInfo": {
     "elapsed": 298,
     "status": "ok",
     "timestamp": 1628783552173,
     "user": {
      "displayName": "Vladislav Lukoshkin",
      "photoUrl": "https://lh3.googleusercontent.com/a-/AOh14GgAIbbQf4c7MKDT0LwJRaFCXf_foXX1lhVz9q3ZEg=s64",
      "userId": "13122188955388036365"
     },
     "user_tz": -180
    },
    "id": "xL7tTxLy49Vy"
   },
   "outputs": [],
   "source": [
    "label_smoothing = False\n",
    "\n",
    "net = SimpleNet().to(device)\n",
    "opt = optim.Adam(net.parameters(), lr=3e-3)\n",
    "\n",
    "criterion = nn.BCEWithLogitsLoss()\n",
    "if label_smoothing:\n",
    "    criterion = LabelSmoothedBCEwLL(.4)"
   ]
  },
  {
   "cell_type": "code",
   "execution_count": null,
   "metadata": {
    "colab": {
     "base_uri": "https://localhost:8080/"
    },
    "executionInfo": {
     "elapsed": 238391,
     "status": "ok",
     "timestamp": 1628783792271,
     "user": {
      "displayName": "Vladislav Lukoshkin",
      "photoUrl": "https://lh3.googleusercontent.com/a-/AOh14GgAIbbQf4c7MKDT0LwJRaFCXf_foXX1lhVz9q3ZEg=s64",
      "userId": "13122188955388036365"
     },
     "user_tz": -180
    },
    "id": "FkVKlwaR49Vy",
    "outputId": "4ba3566e-9e2f-452c-bc18-87aa6edba1fd"
   },
   "outputs": [],
   "source": [
    "_, state = train(net, criterion, opt, train_bl, val_bl, epochs=10, validation='EER')"
   ]
  }
 ],
 "metadata": {
  "accelerator": "GPU",
  "colab": {
   "collapsed_sections": [],
   "name": "Copy of CV.ipynb",
   "provenance": [
    {
     "file_id": "https://github.com/lukoshkin/interview/blob/master/CV/CV.ipynb",
     "timestamp": 1628782029352
    }
   ]
  },
  "kernelspec": {
   "display_name": "Python 3",
   "language": "python",
   "name": "python3"
  },
  "language_info": {
   "codemirror_mode": {
    "name": "ipython",
    "version": 3
   },
   "file_extension": ".py",
   "mimetype": "text/x-python",
   "name": "python",
   "nbconvert_exporter": "python",
   "pygments_lexer": "ipython3",
   "version": "3.7.3"
  },
  "toc": {
   "base_numbering": 1,
   "nav_menu": {},
   "number_sections": true,
   "sideBar": true,
   "skip_h1_title": false,
   "title_cell": "Table of Contents",
   "title_sidebar": "Contents",
   "toc_cell": false,
   "toc_position": {},
   "toc_section_display": true,
   "toc_window_display": false
  }
 },
 "nbformat": 4,
 "nbformat_minor": 5
}
